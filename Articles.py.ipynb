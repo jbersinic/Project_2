{
 "cells": [
  {
   "cell_type": "code",
   "execution_count": 1,
   "metadata": {},
   "outputs": [],
   "source": [
    "import requests\n",
    "from bs4 import BeautifulSoup as b\n",
    "import pandas as pd\n",
    "import webbrowser"
   ]
  },
  {
   "cell_type": "code",
   "execution_count": 2,
   "metadata": {},
   "outputs": [
    {
     "name": "stdout",
     "output_type": "stream",
     "text": [
      "What country?Canada\n",
      "After what year?2011\n",
      "Before what year?2013\n",
      "https://www.google.co.in/search?q=+Canada+co2+emissions+scholarly+articles+after:+2011+before:+2013\n"
     ]
    }
   ],
   "source": [
    "#Loop= [Argentina, Brazil, Canada, China, Italy, EU, India, Indonesia, Japan, Mexico, Russia, South Africa, South Korea, Turkey, United States, Australia, Saudi Arabia, Germany, France, United Kingdom]\n",
    "\n",
    "Country = input(\"What country?\")\n",
    "After = input(\"After what year?\")\n",
    "Before = input(\"Before what year?\")\n",
    "url = f\"https://www.google.co.in/search?q=+{Country}+co2+emissions+scholarly+articles+after:+{After}+before:+{Before}\"\n",
    "print (url)\n",
    "\n",
    "\n",
    "response = requests.get(url)\n",
    "\n"
   ]
  },
  {
   "cell_type": "code",
   "execution_count": 4,
   "metadata": {
    "scrolled": true
   },
   "outputs": [
    {
     "name": "stdout",
     "output_type": "stream",
     "text": [
      "[\"[PDF] Canada's - unfccc\", '[PDF] Regulating Carbon Emissions in Canada - IISD', \"[PDF] Canada's Greenhouse Gas Emissions - Parliamentary Budget Officer\", 'Measured Canadian oil sands CO 2 emissions are higher than ...', \"[PDF] The Evolution of Canada's International and Domestic Climate ...\", 'Carbon footprint of Canadian dairy products: Calculations and ...', '[PDF] Greenhouse gas emissions of Canadian beef production in 1981 as ...', 'Greenhouse gas sources and sinks: executive ... - Canada.ca', \"[PDF] Canada's Changing Climate Report – Chapter 3: Modelling Future ...\", 'Economic and greenhouse gas emission impacts of doubling of ...']\n"
     ]
    }
   ],
   "source": [
    "soup = b(response.text,\"lxml\")\n",
    "articles=[]\n",
    "r = soup.find_all('div', attrs = {'class': 'BNeawe vvjwJb AP7Wnd'})\n",
    "for i in range(len(r)):\n",
    "  articles.append(r[i].text)\n",
    "\n",
    "print(articles)\n",
    "    "
   ]
  },
  {
   "cell_type": "code",
   "execution_count": 5,
   "metadata": {},
   "outputs": [
    {
     "name": "stdout",
     "output_type": "stream",
     "text": [
      "['https://unfccc.int/files/focus/long-term_strategies/application/pdf/can_low-ghg_strategy_red.pdf&sa=U&ved=2ahUKEwi66_n2pNznAhUG0qYKHWkNCxMQFjAAegQIAxAB&usg=AOvVaw1TPofsHF8nCz2gHSOPjfVb', 'https://www.iisd.org/pdf/2014/canadian_carbon_policy_review_2013.pdf&sa=U&ved=2ahUKEwi66_n2pNznAhUG0qYKHWkNCxMQFjABegQICRAB&usg=AOvVaw0k_rAik6wMi6aQ-w252zEF', 'https://www.pbo-dpb.gc.ca/web/default/files/Documents/Reports/2016/ClimateChange/PBO_Climate_Change_EN.pdf&sa=U&ved=2ahUKEwi66_n2pNznAhUG0qYKHWkNCxMQFjACegQIChAB&usg=AOvVaw1zq4n-S0iBFFcSr9oakWWI', 'https://www.nature.com/articles/s41467-019-09714-9&sa=U&ved=2ahUKEwi66_n2pNznAhUG0qYKHWkNCxMQFjADegQICBAB&usg=AOvVaw38CVff83nmpZX_TipZwYcZ', 'https://www.cigionline.org/sites/default/files/documents/Reflections%2520Series%2520Paper%2520no.21%2520Maciunas.pdf&sa=U&ved=2ahUKEwi66_n2pNznAhUG0qYKHWkNCxMQFjAEegQIBxAB&usg=AOvVaw0BFEOL6xIHQ1SiGJdvN4I5', 'https://www.sciencedirect.com/science/article/pii/S0022030213004797&sa=U&ved=2ahUKEwi66_n2pNznAhUG0qYKHWkNCxMQFjAFegQIBRAB&usg=AOvVaw3roZhBJbsd2gBQsAD5t2pw', 'https://cattlemen.bc.ca/docs/paper_greenhouse_gas_emissions_of_cdn_beef_production_1981-2011.pdf&sa=U&ved=2ahUKEwi66_n2pNznAhUG0qYKHWkNCxMQFjAGegQIBhAB&usg=AOvVaw0sXanRqjYQrRXuFfiNjGQX', 'https://www.canada.ca/en/environment-climate-change/services/climate-change/greenhouse-gas-emissions/sources-sinks-executive-summary-2019.html&sa=U&ved=2ahUKEwi66_n2pNznAhUG0qYKHWkNCxMQFjAHegQIARAB&usg=AOvVaw02CQgTr248kKWj4Cw-LbJ9', 'https://www.nrcan.gc.ca/sites/www.nrcan.gc.ca/files/energy/Climate-change/pdf/CCCR-Chapter3-ModellingClimateFutureChange.pdf&sa=U&ved=2ahUKEwi66_n2pNznAhUG0qYKHWkNCxMQFjAIegQIAhAB&usg=AOvVaw3LZUqFT3CWTmkmPl5vGFo2', 'https://www.nrcresearchpress.com/doi/full/10.1139/cjss-2016-0038&sa=U&ved=2ahUKEwi66_n2pNznAhUG0qYKHWkNCxMQFjAJegQIBBAB&usg=AOvVaw0qp1LOwlEdz8s9uu4_TH-1']\n"
     ]
    }
   ],
   "source": [
    "urls = soup.find_all('div', attrs = {'class': 'kCrYT'})\n",
    "#href = urls.find('a')\n",
    "#link = href.get_all('href')\n",
    "#print(link[7:])\n",
    "Links=[]\n",
    "\n",
    "#urls\n",
    "#soup.find_all \n",
    "\n",
    "for link in urls:\n",
    "    href = link.find('a')\n",
    "    try:\n",
    "        raw_website = href.get('href')\n",
    "        clean_web = raw_website[7:]\n",
    "        Links.append(clean_web)\n",
    "    except:\n",
    "      \n",
    "        continue\n",
    "print(Links)"
   ]
  },
  {
   "cell_type": "code",
   "execution_count": 6,
   "metadata": {},
   "outputs": [
    {
     "data": {
      "text/html": [
       "<div>\n",
       "<style scoped>\n",
       "    .dataframe tbody tr th:only-of-type {\n",
       "        vertical-align: middle;\n",
       "    }\n",
       "\n",
       "    .dataframe tbody tr th {\n",
       "        vertical-align: top;\n",
       "    }\n",
       "\n",
       "    .dataframe thead th {\n",
       "        text-align: right;\n",
       "    }\n",
       "</style>\n",
       "<table border=\"1\" class=\"dataframe\">\n",
       "  <thead>\n",
       "    <tr style=\"text-align: right;\">\n",
       "      <th></th>\n",
       "      <th>Articles</th>\n",
       "      <th>Links</th>\n",
       "    </tr>\n",
       "  </thead>\n",
       "  <tbody>\n",
       "    <tr>\n",
       "      <th>0</th>\n",
       "      <td>[PDF] Canada's - unfccc</td>\n",
       "      <td>https://unfccc.int/files/focus/long-term_strategies/application/pdf/can_low-ghg_strategy_red.pdf&amp;sa=U&amp;ved=2ahUKEwi66_n2pNznAhUG0qYKHWkNCxMQFjAAegQIAxAB&amp;usg=AOvVaw1TPofsHF8nCz2gHSOPjfVb</td>\n",
       "    </tr>\n",
       "    <tr>\n",
       "      <th>1</th>\n",
       "      <td>[PDF] Regulating Carbon Emissions in Canada - IISD</td>\n",
       "      <td>https://www.iisd.org/pdf/2014/canadian_carbon_policy_review_2013.pdf&amp;sa=U&amp;ved=2ahUKEwi66_n2pNznAhUG0qYKHWkNCxMQFjABegQICRAB&amp;usg=AOvVaw0k_rAik6wMi6aQ-w252zEF</td>\n",
       "    </tr>\n",
       "    <tr>\n",
       "      <th>2</th>\n",
       "      <td>[PDF] Canada's Greenhouse Gas Emissions - Parliamentary Budget Officer</td>\n",
       "      <td>https://www.pbo-dpb.gc.ca/web/default/files/Documents/Reports/2016/ClimateChange/PBO_Climate_Change_EN.pdf&amp;sa=U&amp;ved=2ahUKEwi66_n2pNznAhUG0qYKHWkNCxMQFjACegQIChAB&amp;usg=AOvVaw1zq4n-S0iBFFcSr9oakWWI</td>\n",
       "    </tr>\n",
       "    <tr>\n",
       "      <th>3</th>\n",
       "      <td>Measured Canadian oil sands CO 2 emissions are higher than ...</td>\n",
       "      <td>https://www.nature.com/articles/s41467-019-09714-9&amp;sa=U&amp;ved=2ahUKEwi66_n2pNznAhUG0qYKHWkNCxMQFjADegQICBAB&amp;usg=AOvVaw38CVff83nmpZX_TipZwYcZ</td>\n",
       "    </tr>\n",
       "    <tr>\n",
       "      <th>4</th>\n",
       "      <td>[PDF] The Evolution of Canada's International and Domestic Climate ...</td>\n",
       "      <td>https://www.cigionline.org/sites/default/files/documents/Reflections%2520Series%2520Paper%2520no.21%2520Maciunas.pdf&amp;sa=U&amp;ved=2ahUKEwi66_n2pNznAhUG0qYKHWkNCxMQFjAEegQIBxAB&amp;usg=AOvVaw0BFEOL6xIHQ1SiGJdvN4I5</td>\n",
       "    </tr>\n",
       "    <tr>\n",
       "      <th>5</th>\n",
       "      <td>Carbon footprint of Canadian dairy products: Calculations and ...</td>\n",
       "      <td>https://www.sciencedirect.com/science/article/pii/S0022030213004797&amp;sa=U&amp;ved=2ahUKEwi66_n2pNznAhUG0qYKHWkNCxMQFjAFegQIBRAB&amp;usg=AOvVaw3roZhBJbsd2gBQsAD5t2pw</td>\n",
       "    </tr>\n",
       "    <tr>\n",
       "      <th>6</th>\n",
       "      <td>[PDF] Greenhouse gas emissions of Canadian beef production in 1981 as ...</td>\n",
       "      <td>https://cattlemen.bc.ca/docs/paper_greenhouse_gas_emissions_of_cdn_beef_production_1981-2011.pdf&amp;sa=U&amp;ved=2ahUKEwi66_n2pNznAhUG0qYKHWkNCxMQFjAGegQIBhAB&amp;usg=AOvVaw0sXanRqjYQrRXuFfiNjGQX</td>\n",
       "    </tr>\n",
       "    <tr>\n",
       "      <th>7</th>\n",
       "      <td>Greenhouse gas sources and sinks: executive ... - Canada.ca</td>\n",
       "      <td>https://www.canada.ca/en/environment-climate-change/services/climate-change/greenhouse-gas-emissions/sources-sinks-executive-summary-2019.html&amp;sa=U&amp;ved=2ahUKEwi66_n2pNznAhUG0qYKHWkNCxMQFjAHegQIARAB&amp;usg=AOvVaw02CQgTr248kKWj4Cw-LbJ9</td>\n",
       "    </tr>\n",
       "    <tr>\n",
       "      <th>8</th>\n",
       "      <td>[PDF] Canada's Changing Climate Report – Chapter 3: Modelling Future ...</td>\n",
       "      <td>https://www.nrcan.gc.ca/sites/www.nrcan.gc.ca/files/energy/Climate-change/pdf/CCCR-Chapter3-ModellingClimateFutureChange.pdf&amp;sa=U&amp;ved=2ahUKEwi66_n2pNznAhUG0qYKHWkNCxMQFjAIegQIAhAB&amp;usg=AOvVaw3LZUqFT3CWTmkmPl5vGFo2</td>\n",
       "    </tr>\n",
       "    <tr>\n",
       "      <th>9</th>\n",
       "      <td>Economic and greenhouse gas emission impacts of doubling of ...</td>\n",
       "      <td>https://www.nrcresearchpress.com/doi/full/10.1139/cjss-2016-0038&amp;sa=U&amp;ved=2ahUKEwi66_n2pNznAhUG0qYKHWkNCxMQFjAJegQIBBAB&amp;usg=AOvVaw0qp1LOwlEdz8s9uu4_TH-1</td>\n",
       "    </tr>\n",
       "  </tbody>\n",
       "</table>\n",
       "</div>"
      ],
      "text/plain": [
       "                                                                    Articles  \\\n",
       "0  [PDF] Canada's - unfccc                                                     \n",
       "1  [PDF] Regulating Carbon Emissions in Canada - IISD                          \n",
       "2  [PDF] Canada's Greenhouse Gas Emissions - Parliamentary Budget Officer      \n",
       "3  Measured Canadian oil sands CO 2 emissions are higher than ...              \n",
       "4  [PDF] The Evolution of Canada's International and Domestic Climate ...      \n",
       "5  Carbon footprint of Canadian dairy products: Calculations and ...           \n",
       "6  [PDF] Greenhouse gas emissions of Canadian beef production in 1981 as ...   \n",
       "7  Greenhouse gas sources and sinks: executive ... - Canada.ca                 \n",
       "8  [PDF] Canada's Changing Climate Report – Chapter 3: Modelling Future ...    \n",
       "9  Economic and greenhouse gas emission impacts of doubling of ...             \n",
       "\n",
       "                                                                                                                                                                                                                                    Links  \n",
       "0  https://unfccc.int/files/focus/long-term_strategies/application/pdf/can_low-ghg_strategy_red.pdf&sa=U&ved=2ahUKEwi66_n2pNznAhUG0qYKHWkNCxMQFjAAegQIAxAB&usg=AOvVaw1TPofsHF8nCz2gHSOPjfVb                                                \n",
       "1  https://www.iisd.org/pdf/2014/canadian_carbon_policy_review_2013.pdf&sa=U&ved=2ahUKEwi66_n2pNznAhUG0qYKHWkNCxMQFjABegQICRAB&usg=AOvVaw0k_rAik6wMi6aQ-w252zEF                                                                            \n",
       "2  https://www.pbo-dpb.gc.ca/web/default/files/Documents/Reports/2016/ClimateChange/PBO_Climate_Change_EN.pdf&sa=U&ved=2ahUKEwi66_n2pNznAhUG0qYKHWkNCxMQFjACegQIChAB&usg=AOvVaw1zq4n-S0iBFFcSr9oakWWI                                      \n",
       "3  https://www.nature.com/articles/s41467-019-09714-9&sa=U&ved=2ahUKEwi66_n2pNznAhUG0qYKHWkNCxMQFjADegQICBAB&usg=AOvVaw38CVff83nmpZX_TipZwYcZ                                                                                              \n",
       "4  https://www.cigionline.org/sites/default/files/documents/Reflections%2520Series%2520Paper%2520no.21%2520Maciunas.pdf&sa=U&ved=2ahUKEwi66_n2pNznAhUG0qYKHWkNCxMQFjAEegQIBxAB&usg=AOvVaw0BFEOL6xIHQ1SiGJdvN4I5                            \n",
       "5  https://www.sciencedirect.com/science/article/pii/S0022030213004797&sa=U&ved=2ahUKEwi66_n2pNznAhUG0qYKHWkNCxMQFjAFegQIBRAB&usg=AOvVaw3roZhBJbsd2gBQsAD5t2pw                                                                             \n",
       "6  https://cattlemen.bc.ca/docs/paper_greenhouse_gas_emissions_of_cdn_beef_production_1981-2011.pdf&sa=U&ved=2ahUKEwi66_n2pNznAhUG0qYKHWkNCxMQFjAGegQIBhAB&usg=AOvVaw0sXanRqjYQrRXuFfiNjGQX                                                \n",
       "7  https://www.canada.ca/en/environment-climate-change/services/climate-change/greenhouse-gas-emissions/sources-sinks-executive-summary-2019.html&sa=U&ved=2ahUKEwi66_n2pNznAhUG0qYKHWkNCxMQFjAHegQIARAB&usg=AOvVaw02CQgTr248kKWj4Cw-LbJ9  \n",
       "8  https://www.nrcan.gc.ca/sites/www.nrcan.gc.ca/files/energy/Climate-change/pdf/CCCR-Chapter3-ModellingClimateFutureChange.pdf&sa=U&ved=2ahUKEwi66_n2pNznAhUG0qYKHWkNCxMQFjAIegQIAhAB&usg=AOvVaw3LZUqFT3CWTmkmPl5vGFo2                    \n",
       "9  https://www.nrcresearchpress.com/doi/full/10.1139/cjss-2016-0038&sa=U&ved=2ahUKEwi66_n2pNznAhUG0qYKHWkNCxMQFjAJegQIBBAB&usg=AOvVaw0qp1LOwlEdz8s9uu4_TH-1                                                                                "
      ]
     },
     "execution_count": 6,
     "metadata": {},
     "output_type": "execute_result"
    }
   ],
   "source": [
    "data = {'Articles':articles,'Links':Links}\n",
    "df = pd.DataFrame(data)\n",
    "pd.set_option\n",
    "pd.set_option('display.max_rows', None)\n",
    "pd.set_option('display.max_columns', None)\n",
    "pd.set_option('display.width', None)\n",
    "pd.set_option('display.max_colwidth', -1)\n",
    "df"
   ]
  },
  {
   "cell_type": "code",
   "execution_count": 7,
   "metadata": {},
   "outputs": [
    {
     "name": "stdout",
     "output_type": "stream",
     "text": [
      "<table border=\"1\" class=\"dataframe\">\n",
      "  <thead>\n",
      "    <tr style=\"text-align: right;\">\n",
      "      <th></th>\n",
      "      <th>Articles</th>\n",
      "      <th>Links</th>\n",
      "    </tr>\n",
      "  </thead>\n",
      "  <tbody>\n",
      "    <tr>\n",
      "      <th>0</th>\n",
      "      <td>[PDF] Canada's - unfccc</td>\n",
      "      <td>https://unfccc.int/files/focus/long-term_strategies/application/pdf/can_low-ghg_strategy_red.pdf&amp;sa=U&amp;ved=2ahUKEwi66_n2pNznAhUG0qYKHWkNCxMQFjAAegQIAxAB&amp;usg=AOvVaw1TPofsHF8nCz2gHSOPjfVb</td>\n",
      "    </tr>\n",
      "    <tr>\n",
      "      <th>1</th>\n",
      "      <td>[PDF] Regulating Carbon Emissions in Canada - IISD</td>\n",
      "      <td>https://www.iisd.org/pdf/2014/canadian_carbon_policy_review_2013.pdf&amp;sa=U&amp;ved=2ahUKEwi66_n2pNznAhUG0qYKHWkNCxMQFjABegQICRAB&amp;usg=AOvVaw0k_rAik6wMi6aQ-w252zEF</td>\n",
      "    </tr>\n",
      "    <tr>\n",
      "      <th>2</th>\n",
      "      <td>[PDF] Canada's Greenhouse Gas Emissions - Parliamentary Budget Officer</td>\n",
      "      <td>https://www.pbo-dpb.gc.ca/web/default/files/Documents/Reports/2016/ClimateChange/PBO_Climate_Change_EN.pdf&amp;sa=U&amp;ved=2ahUKEwi66_n2pNznAhUG0qYKHWkNCxMQFjACegQIChAB&amp;usg=AOvVaw1zq4n-S0iBFFcSr9oakWWI</td>\n",
      "    </tr>\n",
      "    <tr>\n",
      "      <th>3</th>\n",
      "      <td>Measured Canadian oil sands CO 2 emissions are higher than ...</td>\n",
      "      <td>https://www.nature.com/articles/s41467-019-09714-9&amp;sa=U&amp;ved=2ahUKEwi66_n2pNznAhUG0qYKHWkNCxMQFjADegQICBAB&amp;usg=AOvVaw38CVff83nmpZX_TipZwYcZ</td>\n",
      "    </tr>\n",
      "    <tr>\n",
      "      <th>4</th>\n",
      "      <td>[PDF] The Evolution of Canada's International and Domestic Climate ...</td>\n",
      "      <td>https://www.cigionline.org/sites/default/files/documents/Reflections%2520Series%2520Paper%2520no.21%2520Maciunas.pdf&amp;sa=U&amp;ved=2ahUKEwi66_n2pNznAhUG0qYKHWkNCxMQFjAEegQIBxAB&amp;usg=AOvVaw0BFEOL6xIHQ1SiGJdvN4I5</td>\n",
      "    </tr>\n",
      "    <tr>\n",
      "      <th>5</th>\n",
      "      <td>Carbon footprint of Canadian dairy products: Calculations and ...</td>\n",
      "      <td>https://www.sciencedirect.com/science/article/pii/S0022030213004797&amp;sa=U&amp;ved=2ahUKEwi66_n2pNznAhUG0qYKHWkNCxMQFjAFegQIBRAB&amp;usg=AOvVaw3roZhBJbsd2gBQsAD5t2pw</td>\n",
      "    </tr>\n",
      "    <tr>\n",
      "      <th>6</th>\n",
      "      <td>[PDF] Greenhouse gas emissions of Canadian beef production in 1981 as ...</td>\n",
      "      <td>https://cattlemen.bc.ca/docs/paper_greenhouse_gas_emissions_of_cdn_beef_production_1981-2011.pdf&amp;sa=U&amp;ved=2ahUKEwi66_n2pNznAhUG0qYKHWkNCxMQFjAGegQIBhAB&amp;usg=AOvVaw0sXanRqjYQrRXuFfiNjGQX</td>\n",
      "    </tr>\n",
      "    <tr>\n",
      "      <th>7</th>\n",
      "      <td>Greenhouse gas sources and sinks: executive ... - Canada.ca</td>\n",
      "      <td>https://www.canada.ca/en/environment-climate-change/services/climate-change/greenhouse-gas-emissions/sources-sinks-executive-summary-2019.html&amp;sa=U&amp;ved=2ahUKEwi66_n2pNznAhUG0qYKHWkNCxMQFjAHegQIARAB&amp;usg=AOvVaw02CQgTr248kKWj4Cw-LbJ9</td>\n",
      "    </tr>\n",
      "    <tr>\n",
      "      <th>8</th>\n",
      "      <td>[PDF] Canada's Changing Climate Report – Chapter 3: Modelling Future ...</td>\n",
      "      <td>https://www.nrcan.gc.ca/sites/www.nrcan.gc.ca/files/energy/Climate-change/pdf/CCCR-Chapter3-ModellingClimateFutureChange.pdf&amp;sa=U&amp;ved=2ahUKEwi66_n2pNznAhUG0qYKHWkNCxMQFjAIegQIAhAB&amp;usg=AOvVaw3LZUqFT3CWTmkmPl5vGFo2</td>\n",
      "    </tr>\n",
      "    <tr>\n",
      "      <th>9</th>\n",
      "      <td>Economic and greenhouse gas emission impacts of doubling of ...</td>\n",
      "      <td>https://www.nrcresearchpress.com/doi/full/10.1139/cjss-2016-0038&amp;sa=U&amp;ved=2ahUKEwi66_n2pNznAhUG0qYKHWkNCxMQFjAJegQIBBAB&amp;usg=AOvVaw0qp1LOwlEdz8s9uu4_TH-1</td>\n",
      "    </tr>\n",
      "  </tbody>\n",
      "</table>\n"
     ]
    }
   ],
   "source": [
    "text = df.to_html()\n",
    "print(text)"
   ]
  },
  {
   "cell_type": "code",
   "execution_count": 8,
   "metadata": {},
   "outputs": [],
   "source": [
    "#write html to file\n",
    "with open('articles.html', 'w', encoding=\"utf-8\") as f: \n",
    "    f.write(text)\n",
    "    f.close()"
   ]
  },
  {
   "cell_type": "code",
   "execution_count": null,
   "metadata": {},
   "outputs": [],
   "source": []
  },
  {
   "cell_type": "code",
   "execution_count": null,
   "metadata": {},
   "outputs": [],
   "source": []
  }
 ],
 "metadata": {
  "kernelspec": {
   "display_name": "Python 3",
   "language": "python",
   "name": "python3"
  },
  "language_info": {
   "codemirror_mode": {
    "name": "ipython",
    "version": 3
   },
   "file_extension": ".py",
   "mimetype": "text/x-python",
   "name": "python",
   "nbconvert_exporter": "python",
   "pygments_lexer": "ipython3",
   "version": "3.7.3"
  }
 },
 "nbformat": 4,
 "nbformat_minor": 2
}
