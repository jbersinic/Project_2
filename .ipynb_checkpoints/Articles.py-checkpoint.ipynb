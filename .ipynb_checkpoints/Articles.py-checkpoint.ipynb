{
 "cells": [
  {
   "cell_type": "code",
   "execution_count": 1,
   "metadata": {},
   "outputs": [],
   "source": [
    "import requests\n",
    "from bs4 import BeautifulSoup as b\n",
    "import pandas as pd\n",
    "import webbrowser"
   ]
  },
  {
   "cell_type": "code",
   "execution_count": null,
   "metadata": {},
   "outputs": [],
   "source": [
    "#Loop= [Argentina, Brazil, Canada, China, Italy, EU, India, Indonesia, Japan, Mexico, Russia, South Africa, South Korea, Turkey, United States, Australia, Saudi Arabia, Germany, France, United Kingdom]\n",
    "\n",
    "Country = input(\"What country?\")\n",
    "After = input(\"After what year?\")\n",
    "Before = input(\"Before what year?\")\n",
    "url = f\"https://www.google.co.in/search?q=+{Country}+co2+emissions+scholarly+articles+after:+{After}+before:+{Before}\"\n",
    "print (url)\n",
    "\n",
    "\n",
    "response = requests.get(url)\n",
    "\n"
   ]
  },
  {
   "cell_type": "code",
   "execution_count": null,
   "metadata": {
    "scrolled": true
   },
   "outputs": [],
   "source": [
    "soup = b(response.text,\"lxml\")\n",
    "articles=[]\n",
    "r = soup.find_all('div', attrs = {'class': 'BNeawe vvjwJb AP7Wnd'})\n",
    "for i in range(len(r)):\n",
    "  articles.append(r[i].text)\n",
    "\n",
    "print(articles)\n",
    "    "
   ]
  },
  {
   "cell_type": "code",
   "execution_count": 4,
   "metadata": {},
   "outputs": [
    {
     "name": "stdout",
     "output_type": "stream",
     "text": [
      "['https://unfccc.int/files/focus/long-term_strategies/application/pdf/can_low-ghg_strategy_red.pdf&sa=U&ved=2ahUKEwjp-o7-jc3nAhXQJzQIHQUQCV0QFjAAegQIAxAB&usg=AOvVaw0mTqyvXPgheKSOXN6QAW-D', 'https://www.policyalternatives.ca/sites/default/files/uploads/publications/National%2520Office/2011/11/Peddling%2520Greenhouse%2520Gasses.pdf&sa=U&ved=2ahUKEwjp-o7-jc3nAhXQJzQIHQUQCV0QFjABegQICRAB&usg=AOvVaw2h9KnS34DJPVCPTI9ytOKm', 'https://journals.plos.org/plosone/article%3Fid%3D10.1371/journal.pone.0159774&sa=U&ved=2ahUKEwjp-o7-jc3nAhXQJzQIHQUQCV0QFjACegQICBAB&usg=AOvVaw20RG6DGcz6DECMeaD65nA6', 'https://iopscience.iop.org/article/10.1088/1748-9326/8/4/044036&sa=U&ved=2ahUKEwjp-o7-jc3nAhXQJzQIHQUQCV0QFjADegQIAhAB&usg=AOvVaw3_25HgiiQOPIggLaWxnPD7', 'https://www.nature.com/articles/s41467-019-09714-9&sa=U&ved=2ahUKEwjp-o7-jc3nAhXQJzQIHQUQCV0QFjAEegQIBRAB&usg=AOvVaw2bArH_AqleveumR9HHD0Bz', 'https://cattlemen.bc.ca/docs/paper_greenhouse_gas_emissions_of_cdn_beef_production_1981-2011.pdf&sa=U&ved=2ahUKEwjp-o7-jc3nAhXQJzQIHQUQCV0QFjAFegQIBhAB&usg=AOvVaw1yAnLOCUAvPJ4JMSmOqXhF', 'https://aceee.org/files/proceedings/2016/data/papers/9_49.pdf&sa=U&ved=2ahUKEwjp-o7-jc3nAhXQJzQIHQUQCV0QFjAGegQIARAB&usg=AOvVaw3nVC9t21FN5wTIj0oyj_3i', 'https://www.sciencedirect.com/science/article/pii/S0022030213004797&sa=U&ved=2ahUKEwjp-o7-jc3nAhXQJzQIHQUQCV0QFjAHegQIBxAB&usg=AOvVaw3d8DIes2GWmqUEb1sX4YtL', 'https://www.journalofdairyscience.org/article/S0022-0302(12)00532-2/fulltext&sa=U&ved=2ahUKEwjp-o7-jc3nAhXQJzQIHQUQCV0QFjAIegQIBBAB&usg=AOvVaw2FZk2i62AufB3iLxhY_m2T', 'https://ourworldindata.org/co2-and-other-greenhouse-gas-emissions&sa=U&ved=2ahUKEwjp-o7-jc3nAhXQJzQIHQUQCV0QFjAJegQIABAB&usg=AOvVaw36aVUmw8tA3k0rTSHsDFhp']\n"
     ]
    }
   ],
   "source": [
    "urls = soup.find_all('div', attrs = {'class': 'kCrYT'})\n",
    "#href = urls.find('a')\n",
    "#link = href.get_all('href')\n",
    "#print(link[7:])\n",
    "Links=[]\n",
    "\n",
    "#urls\n",
    "#soup.find_all \n",
    "\n",
    "for link in urls:\n",
    "    href = link.find('a')\n",
    "    try:\n",
    "        raw_website = href.get('href')\n",
    "        clean_web = raw_website[7:]\n",
    "        Links.append(clean_web)\n",
    "    except:\n",
    "      \n",
    "        continue\n",
    "print(Links)"
   ]
  },
  {
   "cell_type": "code",
   "execution_count": 13,
   "metadata": {},
   "outputs": [
    {
     "data": {
      "text/html": [
       "<div>\n",
       "<style scoped>\n",
       "    .dataframe tbody tr th:only-of-type {\n",
       "        vertical-align: middle;\n",
       "    }\n",
       "\n",
       "    .dataframe tbody tr th {\n",
       "        vertical-align: top;\n",
       "    }\n",
       "\n",
       "    .dataframe thead th {\n",
       "        text-align: right;\n",
       "    }\n",
       "</style>\n",
       "<table border=\"1\" class=\"dataframe\">\n",
       "  <thead>\n",
       "    <tr style=\"text-align: right;\">\n",
       "      <th></th>\n",
       "      <th>Articles</th>\n",
       "      <th>Links</th>\n",
       "    </tr>\n",
       "  </thead>\n",
       "  <tbody>\n",
       "    <tr>\n",
       "      <th>0</th>\n",
       "      <td>[PDF] Canada's - unfccc</td>\n",
       "      <td>https://unfccc.int/files/focus/long-term_strategies/application/pdf/can_low-ghg_strategy_red.pdf&amp;sa=U&amp;ved=2ahUKEwjp-o7-jc3nAhXQJzQIHQUQCV0QFjAAegQIAxAB&amp;usg=AOvVaw0mTqyvXPgheKSOXN6QAW-D</td>\n",
       "    </tr>\n",
       "    <tr>\n",
       "      <th>1</th>\n",
       "      <td>[PDF] Peddling GHGs: What is the Carbon Footprint of Canada's Fossil ...</td>\n",
       "      <td>https://www.policyalternatives.ca/sites/default/files/uploads/publications/National%2520Office/2011/11/Peddling%2520Greenhouse%2520Gasses.pdf&amp;sa=U&amp;ved=2ahUKEwjp-o7-jc3nAhXQJzQIHQUQCV0QFjABegQICRAB&amp;usg=AOvVaw2h9KnS34DJPVCPTI9ytOKm</td>\n",
       "    </tr>\n",
       "    <tr>\n",
       "      <th>2</th>\n",
       "      <td>The Distribution of Climate Change Public Opinion in Canada - PLOS</td>\n",
       "      <td>https://journals.plos.org/plosone/article%3Fid%3D10.1371/journal.pone.0159774&amp;sa=U&amp;ved=2ahUKEwjp-o7-jc3nAhXQJzQIHQUQCV0QFjACegQICBAB&amp;usg=AOvVaw20RG6DGcz6DECMeaD65nA6</td>\n",
       "    </tr>\n",
       "    <tr>\n",
       "      <th>3</th>\n",
       "      <td>Historical trends in greenhouse gas emissions of the Alberta oil ...</td>\n",
       "      <td>https://iopscience.iop.org/article/10.1088/1748-9326/8/4/044036&amp;sa=U&amp;ved=2ahUKEwjp-o7-jc3nAhXQJzQIHQUQCV0QFjADegQIAhAB&amp;usg=AOvVaw3_25HgiiQOPIggLaWxnPD7</td>\n",
       "    </tr>\n",
       "    <tr>\n",
       "      <th>4</th>\n",
       "      <td>Measured Canadian oil sands CO 2 emissions are higher than ...</td>\n",
       "      <td>https://www.nature.com/articles/s41467-019-09714-9&amp;sa=U&amp;ved=2ahUKEwjp-o7-jc3nAhXQJzQIHQUQCV0QFjAEegQIBRAB&amp;usg=AOvVaw2bArH_AqleveumR9HHD0Bz</td>\n",
       "    </tr>\n",
       "    <tr>\n",
       "      <th>5</th>\n",
       "      <td>[PDF] Greenhouse gas emissions of Canadian beef production in 1981 as ...</td>\n",
       "      <td>https://cattlemen.bc.ca/docs/paper_greenhouse_gas_emissions_of_cdn_beef_production_1981-2011.pdf&amp;sa=U&amp;ved=2ahUKEwjp-o7-jc3nAhXQJzQIHQUQCV0QFjAFegQIBhAB&amp;usg=AOvVaw1yAnLOCUAvPJ4JMSmOqXhF</td>\n",
       "    </tr>\n",
       "    <tr>\n",
       "      <th>6</th>\n",
       "      <td>[PDF] Learning from 19 Carbon Taxes: What Does the Evidence ... - ACEEE</td>\n",
       "      <td>https://aceee.org/files/proceedings/2016/data/papers/9_49.pdf&amp;sa=U&amp;ved=2ahUKEwjp-o7-jc3nAhXQJzQIHQUQCV0QFjAGegQIARAB&amp;usg=AOvVaw3nVC9t21FN5wTIj0oyj_3i</td>\n",
       "    </tr>\n",
       "    <tr>\n",
       "      <th>7</th>\n",
       "      <td>Carbon footprint of Canadian dairy products: Calculations and ...</td>\n",
       "      <td>https://www.sciencedirect.com/science/article/pii/S0022030213004797&amp;sa=U&amp;ved=2ahUKEwjp-o7-jc3nAhXQJzQIHQUQCV0QFjAHegQIBxAB&amp;usg=AOvVaw3d8DIes2GWmqUEb1sX4YtL</td>\n",
       "    </tr>\n",
       "    <tr>\n",
       "      <th>8</th>\n",
       "      <td>Life-cycle assessment of greenhouse gas emissions from dairy ...</td>\n",
       "      <td>https://www.journalofdairyscience.org/article/S0022-0302(12)00532-2/fulltext&amp;sa=U&amp;ved=2ahUKEwjp-o7-jc3nAhXQJzQIHQUQCV0QFjAIegQIBBAB&amp;usg=AOvVaw2FZk2i62AufB3iLxhY_m2T</td>\n",
       "    </tr>\n",
       "    <tr>\n",
       "      <th>9</th>\n",
       "      <td>CO₂ and Greenhouse Gas Emissions - Our World in Data</td>\n",
       "      <td>https://ourworldindata.org/co2-and-other-greenhouse-gas-emissions&amp;sa=U&amp;ved=2ahUKEwjp-o7-jc3nAhXQJzQIHQUQCV0QFjAJegQIABAB&amp;usg=AOvVaw36aVUmw8tA3k0rTSHsDFhp</td>\n",
       "    </tr>\n",
       "  </tbody>\n",
       "</table>\n",
       "</div>"
      ],
      "text/plain": [
       "                                                                    Articles  \\\n",
       "0  [PDF] Canada's - unfccc                                                     \n",
       "1  [PDF] Peddling GHGs: What is the Carbon Footprint of Canada's Fossil ...    \n",
       "2  The Distribution of Climate Change Public Opinion in Canada - PLOS          \n",
       "3  Historical trends in greenhouse gas emissions of the Alberta oil ...        \n",
       "4  Measured Canadian oil sands CO 2 emissions are higher than ...              \n",
       "5  [PDF] Greenhouse gas emissions of Canadian beef production in 1981 as ...   \n",
       "6  [PDF] Learning from 19 Carbon Taxes: What Does the Evidence ... - ACEEE     \n",
       "7  Carbon footprint of Canadian dairy products: Calculations and ...           \n",
       "8  Life-cycle assessment of greenhouse gas emissions from dairy ...            \n",
       "9  CO₂ and Greenhouse Gas Emissions - Our World in Data                        \n",
       "\n",
       "                                                                                                                                                                                                                                   Links  \n",
       "0  https://unfccc.int/files/focus/long-term_strategies/application/pdf/can_low-ghg_strategy_red.pdf&sa=U&ved=2ahUKEwjp-o7-jc3nAhXQJzQIHQUQCV0QFjAAegQIAxAB&usg=AOvVaw0mTqyvXPgheKSOXN6QAW-D                                               \n",
       "1  https://www.policyalternatives.ca/sites/default/files/uploads/publications/National%2520Office/2011/11/Peddling%2520Greenhouse%2520Gasses.pdf&sa=U&ved=2ahUKEwjp-o7-jc3nAhXQJzQIHQUQCV0QFjABegQICRAB&usg=AOvVaw2h9KnS34DJPVCPTI9ytOKm  \n",
       "2  https://journals.plos.org/plosone/article%3Fid%3D10.1371/journal.pone.0159774&sa=U&ved=2ahUKEwjp-o7-jc3nAhXQJzQIHQUQCV0QFjACegQICBAB&usg=AOvVaw20RG6DGcz6DECMeaD65nA6                                                                  \n",
       "3  https://iopscience.iop.org/article/10.1088/1748-9326/8/4/044036&sa=U&ved=2ahUKEwjp-o7-jc3nAhXQJzQIHQUQCV0QFjADegQIAhAB&usg=AOvVaw3_25HgiiQOPIggLaWxnPD7                                                                                \n",
       "4  https://www.nature.com/articles/s41467-019-09714-9&sa=U&ved=2ahUKEwjp-o7-jc3nAhXQJzQIHQUQCV0QFjAEegQIBRAB&usg=AOvVaw2bArH_AqleveumR9HHD0Bz                                                                                             \n",
       "5  https://cattlemen.bc.ca/docs/paper_greenhouse_gas_emissions_of_cdn_beef_production_1981-2011.pdf&sa=U&ved=2ahUKEwjp-o7-jc3nAhXQJzQIHQUQCV0QFjAFegQIBhAB&usg=AOvVaw1yAnLOCUAvPJ4JMSmOqXhF                                               \n",
       "6  https://aceee.org/files/proceedings/2016/data/papers/9_49.pdf&sa=U&ved=2ahUKEwjp-o7-jc3nAhXQJzQIHQUQCV0QFjAGegQIARAB&usg=AOvVaw3nVC9t21FN5wTIj0oyj_3i                                                                                  \n",
       "7  https://www.sciencedirect.com/science/article/pii/S0022030213004797&sa=U&ved=2ahUKEwjp-o7-jc3nAhXQJzQIHQUQCV0QFjAHegQIBxAB&usg=AOvVaw3d8DIes2GWmqUEb1sX4YtL                                                                            \n",
       "8  https://www.journalofdairyscience.org/article/S0022-0302(12)00532-2/fulltext&sa=U&ved=2ahUKEwjp-o7-jc3nAhXQJzQIHQUQCV0QFjAIegQIBBAB&usg=AOvVaw2FZk2i62AufB3iLxhY_m2T                                                                   \n",
       "9  https://ourworldindata.org/co2-and-other-greenhouse-gas-emissions&sa=U&ved=2ahUKEwjp-o7-jc3nAhXQJzQIHQUQCV0QFjAJegQIABAB&usg=AOvVaw36aVUmw8tA3k0rTSHsDFhp                                                                              "
      ]
     },
     "execution_count": 13,
     "metadata": {},
     "output_type": "execute_result"
    }
   ],
   "source": [
    "data = {'Articles':articles,'Links':Links}\n",
    "df = pd.DataFrame(data)\n",
    "pd.set_option\n",
    "pd.set_option('display.max_rows', None)\n",
    "pd.set_option('display.max_columns', None)\n",
    "pd.set_option('display.width', None)\n",
    "pd.set_option('display.max_colwidth', -1)\n",
    "df"
   ]
  },
  {
   "cell_type": "code",
   "execution_count": 15,
   "metadata": {},
   "outputs": [
    {
     "name": "stdout",
     "output_type": "stream",
     "text": [
      "<table border=\"1\" class=\"dataframe\">\n",
      "  <thead>\n",
      "    <tr style=\"text-align: right;\">\n",
      "      <th></th>\n",
      "      <th>Articles</th>\n",
      "      <th>Links</th>\n",
      "    </tr>\n",
      "  </thead>\n",
      "  <tbody>\n",
      "    <tr>\n",
      "      <th>0</th>\n",
      "      <td>[PDF] Canada's - unfccc</td>\n",
      "      <td>https://unfccc.int/files/focus/long-term_strategies/application/pdf/can_low-ghg_strategy_red.pdf&amp;sa=U&amp;ved=2ahUKEwjp-o7-jc3nAhXQJzQIHQUQCV0QFjAAegQIAxAB&amp;usg=AOvVaw0mTqyvXPgheKSOXN6QAW-D</td>\n",
      "    </tr>\n",
      "    <tr>\n",
      "      <th>1</th>\n",
      "      <td>[PDF] Peddling GHGs: What is the Carbon Footprint of Canada's Fossil ...</td>\n",
      "      <td>https://www.policyalternatives.ca/sites/default/files/uploads/publications/National%2520Office/2011/11/Peddling%2520Greenhouse%2520Gasses.pdf&amp;sa=U&amp;ved=2ahUKEwjp-o7-jc3nAhXQJzQIHQUQCV0QFjABegQICRAB&amp;usg=AOvVaw2h9KnS34DJPVCPTI9ytOKm</td>\n",
      "    </tr>\n",
      "    <tr>\n",
      "      <th>2</th>\n",
      "      <td>The Distribution of Climate Change Public Opinion in Canada - PLOS</td>\n",
      "      <td>https://journals.plos.org/plosone/article%3Fid%3D10.1371/journal.pone.0159774&amp;sa=U&amp;ved=2ahUKEwjp-o7-jc3nAhXQJzQIHQUQCV0QFjACegQICBAB&amp;usg=AOvVaw20RG6DGcz6DECMeaD65nA6</td>\n",
      "    </tr>\n",
      "    <tr>\n",
      "      <th>3</th>\n",
      "      <td>Historical trends in greenhouse gas emissions of the Alberta oil ...</td>\n",
      "      <td>https://iopscience.iop.org/article/10.1088/1748-9326/8/4/044036&amp;sa=U&amp;ved=2ahUKEwjp-o7-jc3nAhXQJzQIHQUQCV0QFjADegQIAhAB&amp;usg=AOvVaw3_25HgiiQOPIggLaWxnPD7</td>\n",
      "    </tr>\n",
      "    <tr>\n",
      "      <th>4</th>\n",
      "      <td>Measured Canadian oil sands CO 2 emissions are higher than ...</td>\n",
      "      <td>https://www.nature.com/articles/s41467-019-09714-9&amp;sa=U&amp;ved=2ahUKEwjp-o7-jc3nAhXQJzQIHQUQCV0QFjAEegQIBRAB&amp;usg=AOvVaw2bArH_AqleveumR9HHD0Bz</td>\n",
      "    </tr>\n",
      "    <tr>\n",
      "      <th>5</th>\n",
      "      <td>[PDF] Greenhouse gas emissions of Canadian beef production in 1981 as ...</td>\n",
      "      <td>https://cattlemen.bc.ca/docs/paper_greenhouse_gas_emissions_of_cdn_beef_production_1981-2011.pdf&amp;sa=U&amp;ved=2ahUKEwjp-o7-jc3nAhXQJzQIHQUQCV0QFjAFegQIBhAB&amp;usg=AOvVaw1yAnLOCUAvPJ4JMSmOqXhF</td>\n",
      "    </tr>\n",
      "    <tr>\n",
      "      <th>6</th>\n",
      "      <td>[PDF] Learning from 19 Carbon Taxes: What Does the Evidence ... - ACEEE</td>\n",
      "      <td>https://aceee.org/files/proceedings/2016/data/papers/9_49.pdf&amp;sa=U&amp;ved=2ahUKEwjp-o7-jc3nAhXQJzQIHQUQCV0QFjAGegQIARAB&amp;usg=AOvVaw3nVC9t21FN5wTIj0oyj_3i</td>\n",
      "    </tr>\n",
      "    <tr>\n",
      "      <th>7</th>\n",
      "      <td>Carbon footprint of Canadian dairy products: Calculations and ...</td>\n",
      "      <td>https://www.sciencedirect.com/science/article/pii/S0022030213004797&amp;sa=U&amp;ved=2ahUKEwjp-o7-jc3nAhXQJzQIHQUQCV0QFjAHegQIBxAB&amp;usg=AOvVaw3d8DIes2GWmqUEb1sX4YtL</td>\n",
      "    </tr>\n",
      "    <tr>\n",
      "      <th>8</th>\n",
      "      <td>Life-cycle assessment of greenhouse gas emissions from dairy ...</td>\n",
      "      <td>https://www.journalofdairyscience.org/article/S0022-0302(12)00532-2/fulltext&amp;sa=U&amp;ved=2ahUKEwjp-o7-jc3nAhXQJzQIHQUQCV0QFjAIegQIBBAB&amp;usg=AOvVaw2FZk2i62AufB3iLxhY_m2T</td>\n",
      "    </tr>\n",
      "    <tr>\n",
      "      <th>9</th>\n",
      "      <td>CO₂ and Greenhouse Gas Emissions - Our World in Data</td>\n",
      "      <td>https://ourworldindata.org/co2-and-other-greenhouse-gas-emissions&amp;sa=U&amp;ved=2ahUKEwjp-o7-jc3nAhXQJzQIHQUQCV0QFjAJegQIABAB&amp;usg=AOvVaw36aVUmw8tA3k0rTSHsDFhp</td>\n",
      "    </tr>\n",
      "  </tbody>\n",
      "</table>\n"
     ]
    }
   ],
   "source": [
    "text = df.to_html()\n",
    "print(text)"
   ]
  },
  {
   "cell_type": "code",
   "execution_count": 17,
   "metadata": {},
   "outputs": [],
   "source": [
    "#write html to file\n",
    "with open('articles.html', 'w', encoding=\"utf-8\") as f: \n",
    "    f.write(text)\n",
    "    f.close()"
   ]
  },
  {
   "cell_type": "code",
   "execution_count": null,
   "metadata": {},
   "outputs": [],
   "source": []
  },
  {
   "cell_type": "code",
   "execution_count": null,
   "metadata": {},
   "outputs": [],
   "source": []
  }
 ],
 "metadata": {
  "kernelspec": {
   "display_name": "Python 3",
   "language": "python",
   "name": "python3"
  },
  "language_info": {
   "codemirror_mode": {
    "name": "ipython",
    "version": 3
   },
   "file_extension": ".py",
   "mimetype": "text/x-python",
   "name": "python",
   "nbconvert_exporter": "python",
   "pygments_lexer": "ipython3",
   "version": "3.7.3"
  }
 },
 "nbformat": 4,
 "nbformat_minor": 2
}
