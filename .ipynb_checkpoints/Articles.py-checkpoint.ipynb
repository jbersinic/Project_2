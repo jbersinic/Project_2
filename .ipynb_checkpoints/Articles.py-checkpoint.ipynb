{
 "cells": [
  {
   "cell_type": "code",
   "execution_count": 3,
   "metadata": {},
   "outputs": [],
   "source": [
    "import requests\n",
    "from bs4 import BeautifulSoup as b\n",
    "import pandas as pd\n",
    "import webbrowser"
   ]
  },
  {
   "cell_type": "code",
   "execution_count": 4,
   "metadata": {},
   "outputs": [
    {
     "name": "stdout",
     "output_type": "stream",
     "text": [
      "What country?Canada\n",
      "After what year?2000\n",
      "Before what year?2030\n",
      "https://www.google.co.in/search?q=+Canada+co2+emissions+scholarly+articles+after:+2000+before:+2030\n"
     ]
    }
   ],
   "source": [
    "#Loop= [Argentina, Brazil, Canada, China, Italy, EU, India, Indonesia, Japan, Mexico, Russia, South Africa, South Korea, Turkey, United States, Australia, Saudi Arabia, Germany, France, United Kingdom]\n",
    "\n",
    "Country = input(\"What country?\")\n",
    "After = input(\"After what year?\")\n",
    "Before = input(\"Before what year?\")\n",
    "url = f\"https://www.google.co.in/search?q=+{Country}+co2+emissions+scholarly+articles+after:+{After}+before:+{Before}\"\n",
    "print (url)\n",
    "\n",
    "\n",
    "response = requests.get(url)\n",
    "\n"
   ]
  },
  {
   "cell_type": "code",
   "execution_count": 5,
   "metadata": {
    "scrolled": true
   },
   "outputs": [
    {
     "name": "stdout",
     "output_type": "stream",
     "text": [
      "[\"[PDF] Canada's - unfccc\", \"[PDF] Canada's Greenhouse Gas Emissions - Parliamentary Budget Officer\", \"[PDF] Canada's Changing Climate Report\", \"[PDF] The Evolution of Canada's International and Domestic Climate ...\", 'Greenhouse gas sources and sinks: executive ... - Canada.ca', '[PDF] Global Warming of 1.5°C - IPCC', '[PDF] by the numbers: canadian ghg emissions - Ivey Business School', 'Impacts of nationally determined contributions on 2030 global ...', '[PDF] OECD Environmental Outlook to 2050 - OECD.org', \"'Catastrophic': Canada set to miss 2030 emissions target by 15 ...\"]\n"
     ]
    }
   ],
   "source": [
    "soup = b(response.text,\"lxml\")\n",
    "articles=[]\n",
    "r = soup.find_all('div', attrs = {'class': 'BNeawe vvjwJb AP7Wnd'})\n",
    "for i in range(len(r)):\n",
    "  articles.append(r[i].text)\n",
    "\n",
    "print(articles)\n",
    "    "
   ]
  },
  {
   "cell_type": "code",
   "execution_count": 6,
   "metadata": {},
   "outputs": [
    {
     "name": "stdout",
     "output_type": "stream",
     "text": [
      "['https://unfccc.int/files/focus/long-term_strategies/application/pdf/can_low-ghg_strategy_red.pdf&sa=U&ved=2ahUKEwjYlvviqdznAhVVxMQBHTJbCccQFjAAegQICRAB&usg=AOvVaw33XRprvqXYFQ0OQ6E-Dg1M', 'https://www.pbo-dpb.gc.ca/web/default/files/Documents/Reports/2016/ClimateChange/PBO_Climate_Change_EN.pdf&sa=U&ved=2ahUKEwjYlvviqdznAhVVxMQBHTJbCccQFjAJegQIBxAB&usg=AOvVaw3-VFBnZyAe4nJ7b6PpLVLg', 'https://www.nrcan.gc.ca/sites/www.nrcan.gc.ca/files/energy/Climate-change/pdf/CCCR_FULLREPORT-EN-FINAL.pdf&sa=U&ved=2ahUKEwjYlvviqdznAhVVxMQBHTJbCccQFjAKegQIBRAB&usg=AOvVaw1H_4Do_dnwUVLQliv_zB2A', 'https://www.cigionline.org/sites/default/files/documents/Reflections%2520Series%2520Paper%2520no.21%2520Maciunas.pdf&sa=U&ved=2ahUKEwjYlvviqdznAhVVxMQBHTJbCccQFjALegQIBhAB&usg=AOvVaw0Y-RkxvTyDsoZZpMiDbA5y', 'https://www.canada.ca/en/environment-climate-change/services/climate-change/greenhouse-gas-emissions/sources-sinks-executive-summary-2019.html&sa=U&ved=2ahUKEwjYlvviqdznAhVVxMQBHTJbCccQFjAMegQICBAB&usg=AOvVaw2s8De-Tcq8kzwvGneyqz4l', 'https://www.ipcc.ch/site/assets/uploads/sites/2/2019/06/SR15_Summary_Volume_Low_Res.pdf&sa=U&ved=2ahUKEwjYlvviqdznAhVVxMQBHTJbCccQFjANegQIChAB&usg=AOvVaw0Vfw7F-OQbeGOvkxCgnSXW', 'https://www.ivey.uwo.ca/cmsmedia/2112500/4462-ghg-emissions-report-v03f.pdf&sa=U&ved=2ahUKEwjYlvviqdznAhVVxMQBHTJbCccQFjAOegQIARAB&usg=AOvVaw1f-fhJbDbDf0ZW0Wq_i2kR', 'https://iopscience.iop.org/article/10.1088/1748-9326/aaa0b9&sa=U&ved=2ahUKEwjYlvviqdznAhVVxMQBHTJbCccQFjAPegQIAhAB&usg=AOvVaw3zU4EE38cw_q6qUu2LKBGi', 'https://www.oecd.org/env/cc/49082173.pdf&sa=U&ved=2ahUKEwjYlvviqdznAhVVxMQBHTJbCccQFjAQegQIAxAB&usg=AOvVaw0wHafeQvmZja4Z-8QsDyf9', 'https://globalnews.ca/news/6218195/un-emissions-report-canada/&sa=U&ved=2ahUKEwjYlvviqdznAhVVxMQBHTJbCccQFjARegQIBBAB&usg=AOvVaw2zeoSQec_fGElQR7PHAUZm']\n"
     ]
    }
   ],
   "source": [
    "urls = soup.find_all('div', attrs = {'class': 'kCrYT'})\n",
    "#href = urls.find('a')\n",
    "#link = href.get_all('href')\n",
    "#print(link[7:])\n",
    "Links=[]\n",
    "\n",
    "#urls\n",
    "#soup.find_all \n",
    "\n",
    "for link in urls:\n",
    "    href = link.find('a')\n",
    "    try:\n",
    "        raw_website = href.get('href')\n",
    "        clean_web = raw_website[7:]\n",
    "        Links.append(clean_web)\n",
    "    except:\n",
    "      \n",
    "        continue\n",
    "print(Links)"
   ]
  },
  {
   "cell_type": "code",
   "execution_count": 8,
   "metadata": {},
   "outputs": [
    {
     "data": {
      "text/html": [
       "<div>\n",
       "<style scoped>\n",
       "    .dataframe tbody tr th:only-of-type {\n",
       "        vertical-align: middle;\n",
       "    }\n",
       "\n",
       "    .dataframe tbody tr th {\n",
       "        vertical-align: top;\n",
       "    }\n",
       "\n",
       "    .dataframe thead th {\n",
       "        text-align: right;\n",
       "    }\n",
       "</style>\n",
       "<table border=\"1\" class=\"dataframe\">\n",
       "  <thead>\n",
       "    <tr style=\"text-align: right;\">\n",
       "      <th></th>\n",
       "      <th>Articles</th>\n",
       "      <th>Links</th>\n",
       "    </tr>\n",
       "  </thead>\n",
       "  <tbody>\n",
       "    <tr>\n",
       "      <th>0</th>\n",
       "      <td>[PDF] Canada's - unfccc</td>\n",
       "      <td>https://unfccc.int/files/focus/long-term_strategies/application/pdf/can_low-ghg_strategy_red.pdf&amp;sa=U&amp;ved=2ahUKEwjYlvviqdznAhVVxMQBHTJbCccQFjAAegQICRAB&amp;usg=AOvVaw33XRprvqXYFQ0OQ6E-Dg1M</td>\n",
       "    </tr>\n",
       "    <tr>\n",
       "      <th>1</th>\n",
       "      <td>[PDF] Canada's Greenhouse Gas Emissions - Parliamentary Budget Officer</td>\n",
       "      <td>https://www.pbo-dpb.gc.ca/web/default/files/Documents/Reports/2016/ClimateChange/PBO_Climate_Change_EN.pdf&amp;sa=U&amp;ved=2ahUKEwjYlvviqdznAhVVxMQBHTJbCccQFjAJegQIBxAB&amp;usg=AOvVaw3-VFBnZyAe4nJ7b6PpLVLg</td>\n",
       "    </tr>\n",
       "    <tr>\n",
       "      <th>2</th>\n",
       "      <td>[PDF] Canada's Changing Climate Report</td>\n",
       "      <td>https://www.nrcan.gc.ca/sites/www.nrcan.gc.ca/files/energy/Climate-change/pdf/CCCR_FULLREPORT-EN-FINAL.pdf&amp;sa=U&amp;ved=2ahUKEwjYlvviqdznAhVVxMQBHTJbCccQFjAKegQIBRAB&amp;usg=AOvVaw1H_4Do_dnwUVLQliv_zB2A</td>\n",
       "    </tr>\n",
       "    <tr>\n",
       "      <th>3</th>\n",
       "      <td>[PDF] The Evolution of Canada's International and Domestic Climate ...</td>\n",
       "      <td>https://www.cigionline.org/sites/default/files/documents/Reflections%2520Series%2520Paper%2520no.21%2520Maciunas.pdf&amp;sa=U&amp;ved=2ahUKEwjYlvviqdznAhVVxMQBHTJbCccQFjALegQIBhAB&amp;usg=AOvVaw0Y-RkxvTyDsoZZpMiDbA5y</td>\n",
       "    </tr>\n",
       "    <tr>\n",
       "      <th>4</th>\n",
       "      <td>Greenhouse gas sources and sinks: executive ... - Canada.ca</td>\n",
       "      <td>https://www.canada.ca/en/environment-climate-change/services/climate-change/greenhouse-gas-emissions/sources-sinks-executive-summary-2019.html&amp;sa=U&amp;ved=2ahUKEwjYlvviqdznAhVVxMQBHTJbCccQFjAMegQICBAB&amp;usg=AOvVaw2s8De-Tcq8kzwvGneyqz4l</td>\n",
       "    </tr>\n",
       "    <tr>\n",
       "      <th>5</th>\n",
       "      <td>[PDF] Global Warming of 1.5°C - IPCC</td>\n",
       "      <td>https://www.ipcc.ch/site/assets/uploads/sites/2/2019/06/SR15_Summary_Volume_Low_Res.pdf&amp;sa=U&amp;ved=2ahUKEwjYlvviqdznAhVVxMQBHTJbCccQFjANegQIChAB&amp;usg=AOvVaw0Vfw7F-OQbeGOvkxCgnSXW</td>\n",
       "    </tr>\n",
       "    <tr>\n",
       "      <th>6</th>\n",
       "      <td>[PDF] by the numbers: canadian ghg emissions - Ivey Business School</td>\n",
       "      <td>https://www.ivey.uwo.ca/cmsmedia/2112500/4462-ghg-emissions-report-v03f.pdf&amp;sa=U&amp;ved=2ahUKEwjYlvviqdznAhVVxMQBHTJbCccQFjAOegQIARAB&amp;usg=AOvVaw1f-fhJbDbDf0ZW0Wq_i2kR</td>\n",
       "    </tr>\n",
       "    <tr>\n",
       "      <th>7</th>\n",
       "      <td>Impacts of nationally determined contributions on 2030 global ...</td>\n",
       "      <td>https://iopscience.iop.org/article/10.1088/1748-9326/aaa0b9&amp;sa=U&amp;ved=2ahUKEwjYlvviqdznAhVVxMQBHTJbCccQFjAPegQIAhAB&amp;usg=AOvVaw3zU4EE38cw_q6qUu2LKBGi</td>\n",
       "    </tr>\n",
       "    <tr>\n",
       "      <th>8</th>\n",
       "      <td>[PDF] OECD Environmental Outlook to 2050 - OECD.org</td>\n",
       "      <td>https://www.oecd.org/env/cc/49082173.pdf&amp;sa=U&amp;ved=2ahUKEwjYlvviqdznAhVVxMQBHTJbCccQFjAQegQIAxAB&amp;usg=AOvVaw0wHafeQvmZja4Z-8QsDyf9</td>\n",
       "    </tr>\n",
       "    <tr>\n",
       "      <th>9</th>\n",
       "      <td>'Catastrophic': Canada set to miss 2030 emissions target by 15 ...</td>\n",
       "      <td>https://globalnews.ca/news/6218195/un-emissions-report-canada/&amp;sa=U&amp;ved=2ahUKEwjYlvviqdznAhVVxMQBHTJbCccQFjARegQIBBAB&amp;usg=AOvVaw2zeoSQec_fGElQR7PHAUZm</td>\n",
       "    </tr>\n",
       "  </tbody>\n",
       "</table>\n",
       "</div>"
      ],
      "text/plain": [
       "                                                                 Articles  \\\n",
       "0  [PDF] Canada's - unfccc                                                  \n",
       "1  [PDF] Canada's Greenhouse Gas Emissions - Parliamentary Budget Officer   \n",
       "2  [PDF] Canada's Changing Climate Report                                   \n",
       "3  [PDF] The Evolution of Canada's International and Domestic Climate ...   \n",
       "4  Greenhouse gas sources and sinks: executive ... - Canada.ca              \n",
       "5  [PDF] Global Warming of 1.5°C - IPCC                                     \n",
       "6  [PDF] by the numbers: canadian ghg emissions - Ivey Business School      \n",
       "7  Impacts of nationally determined contributions on 2030 global ...        \n",
       "8  [PDF] OECD Environmental Outlook to 2050 - OECD.org                      \n",
       "9  'Catastrophic': Canada set to miss 2030 emissions target by 15 ...       \n",
       "\n",
       "                                                                                                                                                                                                                                    Links  \n",
       "0  https://unfccc.int/files/focus/long-term_strategies/application/pdf/can_low-ghg_strategy_red.pdf&sa=U&ved=2ahUKEwjYlvviqdznAhVVxMQBHTJbCccQFjAAegQICRAB&usg=AOvVaw33XRprvqXYFQ0OQ6E-Dg1M                                                \n",
       "1  https://www.pbo-dpb.gc.ca/web/default/files/Documents/Reports/2016/ClimateChange/PBO_Climate_Change_EN.pdf&sa=U&ved=2ahUKEwjYlvviqdznAhVVxMQBHTJbCccQFjAJegQIBxAB&usg=AOvVaw3-VFBnZyAe4nJ7b6PpLVLg                                      \n",
       "2  https://www.nrcan.gc.ca/sites/www.nrcan.gc.ca/files/energy/Climate-change/pdf/CCCR_FULLREPORT-EN-FINAL.pdf&sa=U&ved=2ahUKEwjYlvviqdznAhVVxMQBHTJbCccQFjAKegQIBRAB&usg=AOvVaw1H_4Do_dnwUVLQliv_zB2A                                      \n",
       "3  https://www.cigionline.org/sites/default/files/documents/Reflections%2520Series%2520Paper%2520no.21%2520Maciunas.pdf&sa=U&ved=2ahUKEwjYlvviqdznAhVVxMQBHTJbCccQFjALegQIBhAB&usg=AOvVaw0Y-RkxvTyDsoZZpMiDbA5y                            \n",
       "4  https://www.canada.ca/en/environment-climate-change/services/climate-change/greenhouse-gas-emissions/sources-sinks-executive-summary-2019.html&sa=U&ved=2ahUKEwjYlvviqdznAhVVxMQBHTJbCccQFjAMegQICBAB&usg=AOvVaw2s8De-Tcq8kzwvGneyqz4l  \n",
       "5  https://www.ipcc.ch/site/assets/uploads/sites/2/2019/06/SR15_Summary_Volume_Low_Res.pdf&sa=U&ved=2ahUKEwjYlvviqdznAhVVxMQBHTJbCccQFjANegQIChAB&usg=AOvVaw0Vfw7F-OQbeGOvkxCgnSXW                                                         \n",
       "6  https://www.ivey.uwo.ca/cmsmedia/2112500/4462-ghg-emissions-report-v03f.pdf&sa=U&ved=2ahUKEwjYlvviqdznAhVVxMQBHTJbCccQFjAOegQIARAB&usg=AOvVaw1f-fhJbDbDf0ZW0Wq_i2kR                                                                     \n",
       "7  https://iopscience.iop.org/article/10.1088/1748-9326/aaa0b9&sa=U&ved=2ahUKEwjYlvviqdznAhVVxMQBHTJbCccQFjAPegQIAhAB&usg=AOvVaw3zU4EE38cw_q6qUu2LKBGi                                                                                     \n",
       "8  https://www.oecd.org/env/cc/49082173.pdf&sa=U&ved=2ahUKEwjYlvviqdznAhVVxMQBHTJbCccQFjAQegQIAxAB&usg=AOvVaw0wHafeQvmZja4Z-8QsDyf9                                                                                                        \n",
       "9  https://globalnews.ca/news/6218195/un-emissions-report-canada/&sa=U&ved=2ahUKEwjYlvviqdznAhVVxMQBHTJbCccQFjARegQIBBAB&usg=AOvVaw2zeoSQec_fGElQR7PHAUZm                                                                                  "
      ]
     },
     "execution_count": 8,
     "metadata": {},
     "output_type": "execute_result"
    }
   ],
   "source": [
    "data = {'Articles':articles,'Links':Links}\n",
    "df = pd.DataFrame(data)\n",
    "pd.set_option\n",
    "pd.set_option('display.max_rows', None)\n",
    "pd.set_option('display.max_columns', None)\n",
    "pd.set_option('display.width', None)\n",
    "pd.set_option('display.max_colwidth', -1)\n",
    "df"
   ]
  },
  {
   "cell_type": "code",
   "execution_count": 9,
   "metadata": {},
   "outputs": [
    {
     "name": "stdout",
     "output_type": "stream",
     "text": [
      "<table border=\"1\" class=\"dataframe\">\n",
      "  <thead>\n",
      "    <tr style=\"text-align: right;\">\n",
      "      <th></th>\n",
      "      <th>Articles</th>\n",
      "      <th>Links</th>\n",
      "    </tr>\n",
      "  </thead>\n",
      "  <tbody>\n",
      "    <tr>\n",
      "      <th>0</th>\n",
      "      <td>[PDF] Canada's - unfccc</td>\n",
      "      <td>https://unfccc.int/files/focus/long-term_strategies/application/pdf/can_low-ghg_strategy_red.pdf&amp;sa=U&amp;ved=2ahUKEwjYlvviqdznAhVVxMQBHTJbCccQFjAAegQICRAB&amp;usg=AOvVaw33XRprvqXYFQ0OQ6E-Dg1M</td>\n",
      "    </tr>\n",
      "    <tr>\n",
      "      <th>1</th>\n",
      "      <td>[PDF] Canada's Greenhouse Gas Emissions - Parliamentary Budget Officer</td>\n",
      "      <td>https://www.pbo-dpb.gc.ca/web/default/files/Documents/Reports/2016/ClimateChange/PBO_Climate_Change_EN.pdf&amp;sa=U&amp;ved=2ahUKEwjYlvviqdznAhVVxMQBHTJbCccQFjAJegQIBxAB&amp;usg=AOvVaw3-VFBnZyAe4nJ7b6PpLVLg</td>\n",
      "    </tr>\n",
      "    <tr>\n",
      "      <th>2</th>\n",
      "      <td>[PDF] Canada's Changing Climate Report</td>\n",
      "      <td>https://www.nrcan.gc.ca/sites/www.nrcan.gc.ca/files/energy/Climate-change/pdf/CCCR_FULLREPORT-EN-FINAL.pdf&amp;sa=U&amp;ved=2ahUKEwjYlvviqdznAhVVxMQBHTJbCccQFjAKegQIBRAB&amp;usg=AOvVaw1H_4Do_dnwUVLQliv_zB2A</td>\n",
      "    </tr>\n",
      "    <tr>\n",
      "      <th>3</th>\n",
      "      <td>[PDF] The Evolution of Canada's International and Domestic Climate ...</td>\n",
      "      <td>https://www.cigionline.org/sites/default/files/documents/Reflections%2520Series%2520Paper%2520no.21%2520Maciunas.pdf&amp;sa=U&amp;ved=2ahUKEwjYlvviqdznAhVVxMQBHTJbCccQFjALegQIBhAB&amp;usg=AOvVaw0Y-RkxvTyDsoZZpMiDbA5y</td>\n",
      "    </tr>\n",
      "    <tr>\n",
      "      <th>4</th>\n",
      "      <td>Greenhouse gas sources and sinks: executive ... - Canada.ca</td>\n",
      "      <td>https://www.canada.ca/en/environment-climate-change/services/climate-change/greenhouse-gas-emissions/sources-sinks-executive-summary-2019.html&amp;sa=U&amp;ved=2ahUKEwjYlvviqdznAhVVxMQBHTJbCccQFjAMegQICBAB&amp;usg=AOvVaw2s8De-Tcq8kzwvGneyqz4l</td>\n",
      "    </tr>\n",
      "    <tr>\n",
      "      <th>5</th>\n",
      "      <td>[PDF] Global Warming of 1.5°C - IPCC</td>\n",
      "      <td>https://www.ipcc.ch/site/assets/uploads/sites/2/2019/06/SR15_Summary_Volume_Low_Res.pdf&amp;sa=U&amp;ved=2ahUKEwjYlvviqdznAhVVxMQBHTJbCccQFjANegQIChAB&amp;usg=AOvVaw0Vfw7F-OQbeGOvkxCgnSXW</td>\n",
      "    </tr>\n",
      "    <tr>\n",
      "      <th>6</th>\n",
      "      <td>[PDF] by the numbers: canadian ghg emissions - Ivey Business School</td>\n",
      "      <td>https://www.ivey.uwo.ca/cmsmedia/2112500/4462-ghg-emissions-report-v03f.pdf&amp;sa=U&amp;ved=2ahUKEwjYlvviqdznAhVVxMQBHTJbCccQFjAOegQIARAB&amp;usg=AOvVaw1f-fhJbDbDf0ZW0Wq_i2kR</td>\n",
      "    </tr>\n",
      "    <tr>\n",
      "      <th>7</th>\n",
      "      <td>Impacts of nationally determined contributions on 2030 global ...</td>\n",
      "      <td>https://iopscience.iop.org/article/10.1088/1748-9326/aaa0b9&amp;sa=U&amp;ved=2ahUKEwjYlvviqdznAhVVxMQBHTJbCccQFjAPegQIAhAB&amp;usg=AOvVaw3zU4EE38cw_q6qUu2LKBGi</td>\n",
      "    </tr>\n",
      "    <tr>\n",
      "      <th>8</th>\n",
      "      <td>[PDF] OECD Environmental Outlook to 2050 - OECD.org</td>\n",
      "      <td>https://www.oecd.org/env/cc/49082173.pdf&amp;sa=U&amp;ved=2ahUKEwjYlvviqdznAhVVxMQBHTJbCccQFjAQegQIAxAB&amp;usg=AOvVaw0wHafeQvmZja4Z-8QsDyf9</td>\n",
      "    </tr>\n",
      "    <tr>\n",
      "      <th>9</th>\n",
      "      <td>'Catastrophic': Canada set to miss 2030 emissions target by 15 ...</td>\n",
      "      <td>https://globalnews.ca/news/6218195/un-emissions-report-canada/&amp;sa=U&amp;ved=2ahUKEwjYlvviqdznAhVVxMQBHTJbCccQFjARegQIBBAB&amp;usg=AOvVaw2zeoSQec_fGElQR7PHAUZm</td>\n",
      "    </tr>\n",
      "  </tbody>\n",
      "</table>\n"
     ]
    }
   ],
   "source": [
    "text = df.to_html()\n",
    "print(text)"
   ]
  },
  {
   "cell_type": "code",
   "execution_count": 10,
   "metadata": {},
   "outputs": [],
   "source": [
    "#write html to file\n",
    "with open('Emissions/templates/articles.html', 'w', encoding=\"utf-8\") as f: \n",
    "    f.write(text)\n",
    "    f.close()"
   ]
  },
  {
   "cell_type": "code",
   "execution_count": null,
   "metadata": {},
   "outputs": [],
   "source": []
  },
  {
   "cell_type": "code",
   "execution_count": null,
   "metadata": {},
   "outputs": [],
   "source": []
  }
 ],
 "metadata": {
  "kernelspec": {
   "display_name": "Python 3",
   "language": "python",
   "name": "python3"
  },
  "language_info": {
   "codemirror_mode": {
    "name": "ipython",
    "version": 3
   },
   "file_extension": ".py",
   "mimetype": "text/x-python",
   "name": "python",
   "nbconvert_exporter": "python",
   "pygments_lexer": "ipython3",
   "version": "3.7.3"
  }
 },
 "nbformat": 4,
 "nbformat_minor": 2
}
