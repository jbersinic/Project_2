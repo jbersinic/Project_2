{
 "cells": [
  {
   "cell_type": "code",
   "execution_count": 1,
   "metadata": {},
   "outputs": [
    {
     "name": "stdout",
     "output_type": "stream",
     "text": [
      "What country?Canada\n",
      "After what year?2011\n",
      "Before what year?2012\n",
      "https://www.google.co.in/search?q=+Canada+co2+emissions+scholarly+articles+after:+2011+before:+2012\n"
     ]
    }
   ],
   "source": [
    "import requests\n",
    "from bs4 import BeautifulSoup as b\n",
    "\n",
    "Country = input(\"What country?\")\n",
    "After = input(\"After what year?\")\n",
    "Before = input(\"Before what year?\")\n",
    "url = f\"https://www.google.co.in/search?q=+{Country}+co2+emissions+scholarly+articles+after:+{After}+before:+{Before}\"\n",
    "print (url)\n",
    "\n",
    "\n",
    "response = requests.get(url)\n",
    "\n"
   ]
  },
  {
   "cell_type": "code",
   "execution_count": 2,
   "metadata": {},
   "outputs": [
    {
     "name": "stdout",
     "output_type": "stream",
     "text": [
      "[PDF] Peddling GHGs: What is the Carbon Footprint of Canada's Fossil ...\n",
      "[PDF] Canada's - unfccc\n",
      "The Distribution of Climate Change Public Opinion in Canada - PLOS\n",
      "Historical trends in greenhouse gas emissions of the Alberta oil ...\n",
      "Measured Canadian oil sands CO 2 emissions are higher than ...\n",
      "[PDF] Greenhouse gas emissions of Canadian beef production in 1981 as ...\n",
      "Contributions of natural systems and human activity to greenhouse ...\n",
      "CO₂ and Greenhouse Gas Emissions - Our World in Data\n",
      "Greenhouse Gas Emissions from Reservoir Water Surfaces: A New ...\n",
      "[PDF] Learning from 19 Carbon Taxes: What Does the Evidence ... - ACEEE\n"
     ]
    }
   ],
   "source": [
    "soup = b(response.text,\"lxml\")\n",
    "\n",
    "r = soup.find_all('div', attrs = {'class': 'BNeawe vvjwJb AP7Wnd'})\n",
    "for i in range(len(r)):\n",
    "  print(r[i].text)"
   ]
  },
  {
   "cell_type": "code",
   "execution_count": 3,
   "metadata": {},
   "outputs": [
    {
     "name": "stdout",
     "output_type": "stream",
     "text": [
      "https://www.policyalternatives.ca › uploads › publications › 2011/11\n",
      "https://unfccc.int › files › application › pdf › can_low-ghg_strategy_red\n",
      "https://journals.plos.org › plosone › article › journal.pone.0159774\n",
      "https://iopscience.iop.org › article\n",
      "https://www.nature.com › nature communications › articles\n",
      "https://cattlemen.bc.ca › docs › paper_greenhouse_gas_emissions_of_...\n",
      "https://www.sciencedirect.com › science › article › pii\n",
      "https://ourworldindata.org › co2-and-other-greenhouse-gas-emissions\n",
      "https://academic.oup.com › bioscience › article\n",
      "https://aceee.org › files › proceedings › data › papers\n"
     ]
    }
   ],
   "source": [
    "soup = b(response.text,\"lxml\")\n",
    "\n",
    "r = soup.find_all('div', attrs = {'class': 'BNeawe UPmit AP7Wnd'})\n",
    "for i in range(len(r)):\n",
    "  print(r[i].text)\n"
   ]
  },
  {
   "cell_type": "code",
   "execution_count": 12,
   "metadata": {},
   "outputs": [
    {
     "name": "stdout",
     "output_type": "stream",
     "text": [
      "https://www.policyalternatives.ca/sites/default/files/uploads/publications/National%2520Office/2011/11/Peddling%2520Greenhouse%2520Gasses.pdf&sa=U&ved=2ahUKEwj9oPCitsjnAhUMuZ4KHb9nB_YQFjAAegQIBxAB&usg=AOvVaw3aoocefNLbvzffnR8GulPE\n",
      "https://unfccc.int/files/focus/long-term_strategies/application/pdf/can_low-ghg_strategy_red.pdf&sa=U&ved=2ahUKEwj9oPCitsjnAhUMuZ4KHb9nB_YQFjAJegQICBAB&usg=AOvVaw2U4RXpphqWrO7hL8mtA0hk\n",
      "https://journals.plos.org/plosone/article%3Fid%3D10.1371/journal.pone.0159774&sa=U&ved=2ahUKEwj9oPCitsjnAhUMuZ4KHb9nB_YQFjAKegQIBhAB&usg=AOvVaw1oiAQYwelXIzbGfLTKFNID\n",
      "https://iopscience.iop.org/article/10.1088/1748-9326/8/4/044036&sa=U&ved=2ahUKEwj9oPCitsjnAhUMuZ4KHb9nB_YQFjALegQIBBAB&usg=AOvVaw0R2Wj8IW9qkT5B2XIZFwA3\n",
      "https://www.nature.com/articles/s41467-019-09714-9&sa=U&ved=2ahUKEwj9oPCitsjnAhUMuZ4KHb9nB_YQFjAMegQIBRAB&usg=AOvVaw23T7qZybtZu0yGQcN2Rx72\n",
      "https://cattlemen.bc.ca/docs/paper_greenhouse_gas_emissions_of_cdn_beef_production_1981-2011.pdf&sa=U&ved=2ahUKEwj9oPCitsjnAhUMuZ4KHb9nB_YQFjANegQIChAB&usg=AOvVaw3bhsiRO4OjszdzlgGfDwVh\n",
      "https://www.sciencedirect.com/science/article/pii/S1674927818300376&sa=U&ved=2ahUKEwj9oPCitsjnAhUMuZ4KHb9nB_YQFjAOegQICRAB&usg=AOvVaw1nZEVz81zCLhL3pkQmcMuN\n",
      "https://ourworldindata.org/co2-and-other-greenhouse-gas-emissions&sa=U&ved=2ahUKEwj9oPCitsjnAhUMuZ4KHb9nB_YQFjAPegQIARAB&usg=AOvVaw0zyW2qY0RhTqwlBumuHTz6\n",
      "https://academic.oup.com/bioscience/article/66/11/949/2754271&sa=U&ved=2ahUKEwj9oPCitsjnAhUMuZ4KHb9nB_YQFjAQegQIAxAB&usg=AOvVaw1eZMQ1Pxf-zj6tDPDbxGo9\n",
      "https://aceee.org/files/proceedings/2016/data/papers/9_49.pdf&sa=U&ved=2ahUKEwj9oPCitsjnAhUMuZ4KHb9nB_YQFjARegQIAhAB&usg=AOvVaw18zu7RrYI3H4IrjhN3pfQ0\n"
     ]
    }
   ],
   "source": [
    "urls = soup.find_all('div', attrs = {'class': 'kCrYT'})\n",
    "#href = urls.find('a')\n",
    "#link = href.get_all('href')\n",
    "#print(link[7:])\n",
    "\n",
    "\n",
    "#urls\n",
    "#soup.find_all \n",
    "\n",
    "for link in urls:\n",
    "    href = link.find('a')\n",
    "    try:\n",
    "        raw_website = href.get('href')\n",
    "        clean_web = raw_website[7:]\n",
    "        print(clean_web)\n",
    "    except:\n",
    "        #print(href)\n",
    "        continue\n"
   ]
  },
  {
   "cell_type": "code",
   "execution_count": null,
   "metadata": {},
   "outputs": [],
   "source": []
  },
  {
   "cell_type": "code",
   "execution_count": null,
   "metadata": {},
   "outputs": [],
   "source": []
  }
 ],
 "metadata": {
  "kernelspec": {
   "display_name": "Python 3",
   "language": "python",
   "name": "python3"
  },
  "language_info": {
   "codemirror_mode": {
    "name": "ipython",
    "version": 3
   },
   "file_extension": ".py",
   "mimetype": "text/x-python",
   "name": "python",
   "nbconvert_exporter": "python",
   "pygments_lexer": "ipython3",
   "version": "3.7.3"
  }
 },
 "nbformat": 4,
 "nbformat_minor": 2
}
