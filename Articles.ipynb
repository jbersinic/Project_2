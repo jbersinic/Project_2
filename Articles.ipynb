{
 "cells": [
  {
   "cell_type": "code",
   "execution_count": 41,
   "metadata": {},
   "outputs": [],
   "source": [
    "import requests\n",
    "from bs4 import BeautifulSoup as b\n",
    "import pandas as pd"
   ]
  },
  {
   "cell_type": "code",
   "execution_count": 42,
   "metadata": {},
   "outputs": [
    {
     "name": "stdout",
     "output_type": "stream",
     "text": [
      "What country?Canada\n",
      "After what year?2011\n",
      "Before what year?2012\n",
      "https://www.google.co.in/search?q=+Canada+co2+emissions+scholarly+articles+after:+2011+before:+2012\n"
     ]
    }
   ],
   "source": [
    "#Loop= [Argentina, Brazil, Canada, China, Italy, EU, India, Indonesia, Japan, Mexico, Russia, South Africa, South Korea, Turkey, United States, Australia, Saudi Arabia, Germany, France, United Kingdom]\n",
    "\n",
    "Country = input(\"What country?\")\n",
    "After = input(\"After what year?\")\n",
    "Before = input(\"Before what year?\")\n",
    "url = f\"https://www.google.co.in/search?q=+{Country}+co2+emissions+scholarly+articles+after:+{After}+before:+{Before}\"\n",
    "print (url)\n",
    "\n",
    "\n",
    "response = requests.get(url)\n",
    "\n"
   ]
  },
  {
   "cell_type": "code",
   "execution_count": 43,
   "metadata": {
    "scrolled": true
   },
   "outputs": [
    {
     "name": "stdout",
     "output_type": "stream",
     "text": [
      "[\"[PDF] Canada's - unfccc\", \"[PDF] Peddling GHGs: What is the Carbon Footprint of Canada's Fossil ...\", 'The Distribution of Climate Change Public Opinion in Canada - PLOS', 'Measured Canadian oil sands CO 2 emissions are higher than ...', 'Historical trends in greenhouse gas emissions of the Alberta oil ...', '[PDF] Greenhouse gas emissions of Canadian beef production in 1981 as ...', '[PDF] Learning from 19 Carbon Taxes: What Does the Evidence ... - ACEEE', 'CO₂ and Greenhouse Gas Emissions - Our World in Data', 'Carbon footprint of Canadian dairy products: Calculations and ...', 'Greenhouse Gas Emissions from Reservoir Water Surfaces: A New ...']\n"
     ]
    }
   ],
   "source": [
    "soup = b(response.text,\"lxml\")\n",
    "articles=[]\n",
    "r = soup.find_all('div', attrs = {'class': 'BNeawe vvjwJb AP7Wnd'})\n",
    "for i in range(len(r)):\n",
    "  articles.append(r[i].text)\n",
    "\n",
    "print(articles)\n",
    "    "
   ]
  },
  {
   "cell_type": "code",
   "execution_count": null,
   "metadata": {},
   "outputs": [],
   "source": []
  },
  {
   "cell_type": "code",
   "execution_count": 44,
   "metadata": {},
   "outputs": [
    {
     "name": "stdout",
     "output_type": "stream",
     "text": [
      "https://unfccc.int › files › application › pdf › can_low-ghg_strategy_red\n",
      "https://www.policyalternatives.ca › uploads › publications › 2011/11\n",
      "https://journals.plos.org › plosone › article › journal.pone.0159774\n",
      "https://www.nature.com › nature communications › articles\n",
      "https://iopscience.iop.org › article\n",
      "https://cattlemen.bc.ca › docs › paper_greenhouse_gas_emissions_of_...\n",
      "https://aceee.org › files › proceedings › data › papers\n",
      "https://ourworldindata.org › co2-and-other-greenhouse-gas-emissions\n",
      "https://www.sciencedirect.com › science › article › pii\n",
      "https://academic.oup.com › bioscience › article\n"
     ]
    }
   ],
   "source": [
    "soup = b(response.text,\"lxml\")\n",
    "\n",
    "r = soup.find_all('div', attrs = {'class': 'BNeawe UPmit AP7Wnd'})\n",
    "for i in range(len(r)):\n",
    "  print(r[i].text)\n"
   ]
  },
  {
   "cell_type": "code",
   "execution_count": 45,
   "metadata": {},
   "outputs": [
    {
     "name": "stdout",
     "output_type": "stream",
     "text": [
      "['https://unfccc.int/files/focus/long-term_strategies/application/pdf/can_low-ghg_strategy_red.pdf&sa=U&ved=2ahUKEwia6MD068rnAhWrs4sKHbz2Bj4QFjAAegQIBxAB&usg=AOvVaw23zucr4PaGLlfDvQ85xFYV', 'https://www.policyalternatives.ca/sites/default/files/uploads/publications/National%2520Office/2011/11/Peddling%2520Greenhouse%2520Gasses.pdf&sa=U&ved=2ahUKEwia6MD068rnAhWrs4sKHbz2Bj4QFjABegQICRAB&usg=AOvVaw1qcxT9I8GWCkfq1Cs4507p', 'https://journals.plos.org/plosone/article%3Fid%3D10.1371/journal.pone.0159774&sa=U&ved=2ahUKEwia6MD068rnAhWrs4sKHbz2Bj4QFjACegQIBhAB&usg=AOvVaw1Gd6YGdZ_OgsQTsgl8G2eS', 'https://www.nature.com/articles/s41467-019-09714-9&sa=U&ved=2ahUKEwia6MD068rnAhWrs4sKHbz2Bj4QFjADegQICBAB&usg=AOvVaw2wkWuonjyZdtBBAVrI2Uz4', 'https://iopscience.iop.org/article/10.1088/1748-9326/8/4/044036&sa=U&ved=2ahUKEwia6MD068rnAhWrs4sKHbz2Bj4QFjAEegQIBBAB&usg=AOvVaw0-vxg5CPxRcNq0ZS3X40jO', 'https://cattlemen.bc.ca/docs/paper_greenhouse_gas_emissions_of_cdn_beef_production_1981-2011.pdf&sa=U&ved=2ahUKEwia6MD068rnAhWrs4sKHbz2Bj4QFjAFegQIBRAB&usg=AOvVaw35XmoNSc_D78BIqQjM4soi', 'https://aceee.org/files/proceedings/2016/data/papers/9_49.pdf&sa=U&ved=2ahUKEwia6MD068rnAhWrs4sKHbz2Bj4QFjAGegQIAhAB&usg=AOvVaw1QqlHihwVxM6sh532yL6Xq', 'https://ourworldindata.org/co2-and-other-greenhouse-gas-emissions&sa=U&ved=2ahUKEwia6MD068rnAhWrs4sKHbz2Bj4QFjAHegQIARAB&usg=AOvVaw2CV4o9Wca_DtmqFlg_4nl-', 'https://www.sciencedirect.com/science/article/pii/S0022030213004797&sa=U&ved=2ahUKEwia6MD068rnAhWrs4sKHbz2Bj4QFjAIegQIABAB&usg=AOvVaw3ekpF9jNAxHl_xLfesBtf7', 'https://academic.oup.com/bioscience/article/66/11/949/2754271&sa=U&ved=2ahUKEwia6MD068rnAhWrs4sKHbz2Bj4QFjAJegQIAxAB&usg=AOvVaw2SqApLubsCbalpUZEFV1jy']\n"
     ]
    }
   ],
   "source": [
    "urls = soup.find_all('div', attrs = {'class': 'kCrYT'})\n",
    "#href = urls.find('a')\n",
    "#link = href.get_all('href')\n",
    "#print(link[7:])\n",
    "Links=[]\n",
    "\n",
    "#urls\n",
    "#soup.find_all \n",
    "\n",
    "for link in urls:\n",
    "    href = link.find('a')\n",
    "    try:\n",
    "        raw_website = href.get('href')\n",
    "        clean_web = raw_website[7:]\n",
    "        Links.append(clean_web)\n",
    "    except:\n",
    "      \n",
    "        continue\n",
    "print(Links)"
   ]
  },
  {
   "cell_type": "code",
   "execution_count": 53,
   "metadata": {},
   "outputs": [
    {
     "ename": "UnicodeEncodeError",
     "evalue": "'charmap' codec can't encode character '\\u2082' in position 1340: character maps to <undefined>",
     "output_type": "error",
     "traceback": [
      "\u001b[1;31m---------------------------------------------------------------------------\u001b[0m",
      "\u001b[1;31mUnicodeEncodeError\u001b[0m                        Traceback (most recent call last)",
      "\u001b[1;32m<ipython-input-53-5298f6203124>\u001b[0m in \u001b[0;36m<module>\u001b[1;34m\u001b[0m\n\u001b[0;32m      5\u001b[0m \u001b[1;31m#write html to file\u001b[0m\u001b[1;33m\u001b[0m\u001b[1;33m\u001b[0m\u001b[1;33m\u001b[0m\u001b[0m\n\u001b[0;32m      6\u001b[0m \u001b[0mtext_file\u001b[0m \u001b[1;33m=\u001b[0m \u001b[0mopen\u001b[0m\u001b[1;33m(\u001b[0m\u001b[1;34m\"index.html\"\u001b[0m\u001b[1;33m,\u001b[0m \u001b[1;34m\"w\"\u001b[0m\u001b[1;33m)\u001b[0m\u001b[1;33m\u001b[0m\u001b[1;33m\u001b[0m\u001b[0m\n\u001b[1;32m----> 7\u001b[1;33m \u001b[0mtext_file\u001b[0m\u001b[1;33m.\u001b[0m\u001b[0mwrite\u001b[0m\u001b[1;33m(\u001b[0m\u001b[0mhtml\u001b[0m\u001b[1;33m)\u001b[0m\u001b[1;33m\u001b[0m\u001b[1;33m\u001b[0m\u001b[0m\n\u001b[0m\u001b[0;32m      8\u001b[0m \u001b[0mtext_file\u001b[0m\u001b[1;33m.\u001b[0m\u001b[0mclose\u001b[0m\u001b[1;33m(\u001b[0m\u001b[1;33m)\u001b[0m\u001b[1;33m\u001b[0m\u001b[1;33m\u001b[0m\u001b[0m\n",
      "\u001b[1;32m~\\Anaconda3\\lib\\encodings\\cp1252.py\u001b[0m in \u001b[0;36mencode\u001b[1;34m(self, input, final)\u001b[0m\n\u001b[0;32m     17\u001b[0m \u001b[1;32mclass\u001b[0m \u001b[0mIncrementalEncoder\u001b[0m\u001b[1;33m(\u001b[0m\u001b[0mcodecs\u001b[0m\u001b[1;33m.\u001b[0m\u001b[0mIncrementalEncoder\u001b[0m\u001b[1;33m)\u001b[0m\u001b[1;33m:\u001b[0m\u001b[1;33m\u001b[0m\u001b[1;33m\u001b[0m\u001b[0m\n\u001b[0;32m     18\u001b[0m     \u001b[1;32mdef\u001b[0m \u001b[0mencode\u001b[0m\u001b[1;33m(\u001b[0m\u001b[0mself\u001b[0m\u001b[1;33m,\u001b[0m \u001b[0minput\u001b[0m\u001b[1;33m,\u001b[0m \u001b[0mfinal\u001b[0m\u001b[1;33m=\u001b[0m\u001b[1;32mFalse\u001b[0m\u001b[1;33m)\u001b[0m\u001b[1;33m:\u001b[0m\u001b[1;33m\u001b[0m\u001b[1;33m\u001b[0m\u001b[0m\n\u001b[1;32m---> 19\u001b[1;33m         \u001b[1;32mreturn\u001b[0m \u001b[0mcodecs\u001b[0m\u001b[1;33m.\u001b[0m\u001b[0mcharmap_encode\u001b[0m\u001b[1;33m(\u001b[0m\u001b[0minput\u001b[0m\u001b[1;33m,\u001b[0m\u001b[0mself\u001b[0m\u001b[1;33m.\u001b[0m\u001b[0merrors\u001b[0m\u001b[1;33m,\u001b[0m\u001b[0mencoding_table\u001b[0m\u001b[1;33m)\u001b[0m\u001b[1;33m[\u001b[0m\u001b[1;36m0\u001b[0m\u001b[1;33m]\u001b[0m\u001b[1;33m\u001b[0m\u001b[1;33m\u001b[0m\u001b[0m\n\u001b[0m\u001b[0;32m     20\u001b[0m \u001b[1;33m\u001b[0m\u001b[0m\n\u001b[0;32m     21\u001b[0m \u001b[1;32mclass\u001b[0m \u001b[0mIncrementalDecoder\u001b[0m\u001b[1;33m(\u001b[0m\u001b[0mcodecs\u001b[0m\u001b[1;33m.\u001b[0m\u001b[0mIncrementalDecoder\u001b[0m\u001b[1;33m)\u001b[0m\u001b[1;33m:\u001b[0m\u001b[1;33m\u001b[0m\u001b[1;33m\u001b[0m\u001b[0m\n",
      "\u001b[1;31mUnicodeEncodeError\u001b[0m: 'charmap' codec can't encode character '\\u2082' in position 1340: character maps to <undefined>"
     ]
    }
   ],
   "source": [
    "d = pd.DataFrame(Links,articles) \n",
    "d \n",
    "html = d.to_html()\n",
    "\n",
    "#write html to file\n",
    "text_file = open(\"index.html\", \"w\")\n",
    "text_file.write(html)\n",
    "text_file.close()"
   ]
  },
  {
   "cell_type": "code",
   "execution_count": 54,
   "metadata": {},
   "outputs": [
    {
     "name": "stdout",
     "output_type": "stream",
     "text": [
      "<table border=\"1\" class=\"dataframe\">\n",
      "  <thead>\n",
      "    <tr style=\"text-align: right;\">\n",
      "      <th></th>\n",
      "      <th>0</th>\n",
      "    </tr>\n",
      "  </thead>\n",
      "  <tbody>\n",
      "    <tr>\n",
      "      <th>[PDF] Canada's - unfccc</th>\n",
      "      <td>https://unfccc.int/files/focus/long-term_strat...</td>\n",
      "    </tr>\n",
      "    <tr>\n",
      "      <th>[PDF] Peddling GHGs: What is the Carbon Footprint of Canada's Fossil ...</th>\n",
      "      <td>https://www.policyalternatives.ca/sites/defaul...</td>\n",
      "    </tr>\n",
      "    <tr>\n",
      "      <th>The Distribution of Climate Change Public Opinion in Canada - PLOS</th>\n",
      "      <td>https://journals.plos.org/plosone/article%3Fid...</td>\n",
      "    </tr>\n",
      "    <tr>\n",
      "      <th>Measured Canadian oil sands CO 2 emissions are higher than ...</th>\n",
      "      <td>https://www.nature.com/articles/s41467-019-097...</td>\n",
      "    </tr>\n",
      "    <tr>\n",
      "      <th>Historical trends in greenhouse gas emissions of the Alberta oil ...</th>\n",
      "      <td>https://iopscience.iop.org/article/10.1088/174...</td>\n",
      "    </tr>\n",
      "    <tr>\n",
      "      <th>[PDF] Greenhouse gas emissions of Canadian beef production in 1981 as ...</th>\n",
      "      <td>https://cattlemen.bc.ca/docs/paper_greenhouse_...</td>\n",
      "    </tr>\n",
      "    <tr>\n",
      "      <th>[PDF] Learning from 19 Carbon Taxes: What Does the Evidence ... - ACEEE</th>\n",
      "      <td>https://aceee.org/files/proceedings/2016/data/...</td>\n",
      "    </tr>\n",
      "    <tr>\n",
      "      <th>CO₂ and Greenhouse Gas Emissions - Our World in Data</th>\n",
      "      <td>https://ourworldindata.org/co2-and-other-green...</td>\n",
      "    </tr>\n",
      "    <tr>\n",
      "      <th>Carbon footprint of Canadian dairy products: Calculations and ...</th>\n",
      "      <td>https://www.sciencedirect.com/science/article/...</td>\n",
      "    </tr>\n",
      "    <tr>\n",
      "      <th>Greenhouse Gas Emissions from Reservoir Water Surfaces: A New ...</th>\n",
      "      <td>https://academic.oup.com/bioscience/article/66...</td>\n",
      "    </tr>\n",
      "  </tbody>\n",
      "</table>\n"
     ]
    }
   ],
   "source": [
    "html = d.to_html()\n",
    "print(html)"
   ]
  },
  {
   "cell_type": "code",
   "execution_count": 55,
   "metadata": {},
   "outputs": [
    {
     "ename": "UnicodeEncodeError",
     "evalue": "'charmap' codec can't encode character '\\u2082' in position 1340: character maps to <undefined>",
     "output_type": "error",
     "traceback": [
      "\u001b[1;31m---------------------------------------------------------------------------\u001b[0m",
      "\u001b[1;31mUnicodeEncodeError\u001b[0m                        Traceback (most recent call last)",
      "\u001b[1;32m<ipython-input-55-476ddb06cf21>\u001b[0m in \u001b[0;36m<module>\u001b[1;34m\u001b[0m\n\u001b[0;32m      1\u001b[0m \u001b[1;31m#write html to file\u001b[0m\u001b[1;33m\u001b[0m\u001b[1;33m\u001b[0m\u001b[1;33m\u001b[0m\u001b[0m\n\u001b[0;32m      2\u001b[0m \u001b[0mtext_file\u001b[0m \u001b[1;33m=\u001b[0m \u001b[0mopen\u001b[0m\u001b[1;33m(\u001b[0m\u001b[1;34m\"index.html\"\u001b[0m\u001b[1;33m,\u001b[0m \u001b[1;34m\"w\"\u001b[0m\u001b[1;33m)\u001b[0m\u001b[1;33m\u001b[0m\u001b[1;33m\u001b[0m\u001b[0m\n\u001b[1;32m----> 3\u001b[1;33m \u001b[0mtext_file\u001b[0m\u001b[1;33m.\u001b[0m\u001b[0mwrite\u001b[0m\u001b[1;33m(\u001b[0m\u001b[0mhtml\u001b[0m\u001b[1;33m)\u001b[0m\u001b[1;33m\u001b[0m\u001b[1;33m\u001b[0m\u001b[0m\n\u001b[0m\u001b[0;32m      4\u001b[0m \u001b[0mtext_file\u001b[0m\u001b[1;33m.\u001b[0m\u001b[0mclose\u001b[0m\u001b[1;33m(\u001b[0m\u001b[1;33m)\u001b[0m\u001b[1;33m\u001b[0m\u001b[1;33m\u001b[0m\u001b[0m\n",
      "\u001b[1;32m~\\Anaconda3\\lib\\encodings\\cp1252.py\u001b[0m in \u001b[0;36mencode\u001b[1;34m(self, input, final)\u001b[0m\n\u001b[0;32m     17\u001b[0m \u001b[1;32mclass\u001b[0m \u001b[0mIncrementalEncoder\u001b[0m\u001b[1;33m(\u001b[0m\u001b[0mcodecs\u001b[0m\u001b[1;33m.\u001b[0m\u001b[0mIncrementalEncoder\u001b[0m\u001b[1;33m)\u001b[0m\u001b[1;33m:\u001b[0m\u001b[1;33m\u001b[0m\u001b[1;33m\u001b[0m\u001b[0m\n\u001b[0;32m     18\u001b[0m     \u001b[1;32mdef\u001b[0m \u001b[0mencode\u001b[0m\u001b[1;33m(\u001b[0m\u001b[0mself\u001b[0m\u001b[1;33m,\u001b[0m \u001b[0minput\u001b[0m\u001b[1;33m,\u001b[0m \u001b[0mfinal\u001b[0m\u001b[1;33m=\u001b[0m\u001b[1;32mFalse\u001b[0m\u001b[1;33m)\u001b[0m\u001b[1;33m:\u001b[0m\u001b[1;33m\u001b[0m\u001b[1;33m\u001b[0m\u001b[0m\n\u001b[1;32m---> 19\u001b[1;33m         \u001b[1;32mreturn\u001b[0m \u001b[0mcodecs\u001b[0m\u001b[1;33m.\u001b[0m\u001b[0mcharmap_encode\u001b[0m\u001b[1;33m(\u001b[0m\u001b[0minput\u001b[0m\u001b[1;33m,\u001b[0m\u001b[0mself\u001b[0m\u001b[1;33m.\u001b[0m\u001b[0merrors\u001b[0m\u001b[1;33m,\u001b[0m\u001b[0mencoding_table\u001b[0m\u001b[1;33m)\u001b[0m\u001b[1;33m[\u001b[0m\u001b[1;36m0\u001b[0m\u001b[1;33m]\u001b[0m\u001b[1;33m\u001b[0m\u001b[1;33m\u001b[0m\u001b[0m\n\u001b[0m\u001b[0;32m     20\u001b[0m \u001b[1;33m\u001b[0m\u001b[0m\n\u001b[0;32m     21\u001b[0m \u001b[1;32mclass\u001b[0m \u001b[0mIncrementalDecoder\u001b[0m\u001b[1;33m(\u001b[0m\u001b[0mcodecs\u001b[0m\u001b[1;33m.\u001b[0m\u001b[0mIncrementalDecoder\u001b[0m\u001b[1;33m)\u001b[0m\u001b[1;33m:\u001b[0m\u001b[1;33m\u001b[0m\u001b[1;33m\u001b[0m\u001b[0m\n",
      "\u001b[1;31mUnicodeEncodeError\u001b[0m: 'charmap' codec can't encode character '\\u2082' in position 1340: character maps to <undefined>"
     ]
    }
   ],
   "source": [
    "#write html to file\n",
    "text_file = open(\"index.html\", \"w\")\n",
    "text_file.write(html)\n",
    "text_file.close()"
   ]
  },
  {
   "cell_type": "code",
   "execution_count": null,
   "metadata": {},
   "outputs": [],
   "source": []
  },
  {
   "cell_type": "code",
   "execution_count": null,
   "metadata": {},
   "outputs": [],
   "source": []
  }
 ],
 "metadata": {
  "kernelspec": {
   "display_name": "Python 3",
   "language": "python",
   "name": "python3"
  },
  "language_info": {
   "codemirror_mode": {
    "name": "ipython",
    "version": 3
   },
   "file_extension": ".py",
   "mimetype": "text/x-python",
   "name": "python",
   "nbconvert_exporter": "python",
   "pygments_lexer": "ipython3",
   "version": "3.7.3"
  }
 },
 "nbformat": 4,
 "nbformat_minor": 2
}
